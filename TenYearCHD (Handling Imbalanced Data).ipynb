{
 "cells": [
  {
   "cell_type": "markdown",
   "metadata": {},
   "source": [
    "# Heart Disease Prediction Using Classification Algorithms"
   ]
  },
  {
   "cell_type": "markdown",
   "metadata": {},
   "source": [
    "This is a model which predicts the presence of a heart disease by using a number of features such as Sex, Age, Current Smoker, Cigs Per Day, BP Meds(which tells if the patient was using any BP medications), Prevalent Stroke, Diabetes, Tot Chol,Sys BP, Dia BP, BMI(Body Mass Index), Heart Rate and Ten Year CHD.\n",
    "\n",
    "The dataset was downloaded from Kaggle and is a data of cardiovascular study on the residents of the town of Framingham, Massachusetts.\n",
    "\n",
    "Here, in this dataset, our target variable or the predictant is the Ten Year CHD which will tell us based on the independant variables if that person has a risk of having a Coronary Heart Disease. Here, 0 means No and 1 means Yes.\n",
    "\n",
    "For this dataset, we will be using three classifications algorithms; which are Logistic Regression, Random Forest Classifier and Support Vector Machines and see which yields us the best results.\n"
   ]
  },
  {
   "cell_type": "code",
   "execution_count": 1,
   "metadata": {},
   "outputs": [],
   "source": [
    "#importing libraries for data visualization and analysis\n",
    "import pandas as pd\n",
    "import numpy as np\n",
    "import seaborn as sns\n",
    "import matplotlib.pyplot as plt\n",
    "%matplotlib inline"
   ]
  },
  {
   "cell_type": "code",
   "execution_count": 2,
   "metadata": {},
   "outputs": [],
   "source": [
    "df = pd.read_csv('framingham.csv')"
   ]
  },
  {
   "cell_type": "code",
   "execution_count": 3,
   "metadata": {},
   "outputs": [
    {
     "data": {
      "text/html": [
       "<div>\n",
       "<style scoped>\n",
       "    .dataframe tbody tr th:only-of-type {\n",
       "        vertical-align: middle;\n",
       "    }\n",
       "\n",
       "    .dataframe tbody tr th {\n",
       "        vertical-align: top;\n",
       "    }\n",
       "\n",
       "    .dataframe thead th {\n",
       "        text-align: right;\n",
       "    }\n",
       "</style>\n",
       "<table border=\"1\" class=\"dataframe\">\n",
       "  <thead>\n",
       "    <tr style=\"text-align: right;\">\n",
       "      <th></th>\n",
       "      <th>male</th>\n",
       "      <th>age</th>\n",
       "      <th>education</th>\n",
       "      <th>currentSmoker</th>\n",
       "      <th>cigsPerDay</th>\n",
       "      <th>BPMeds</th>\n",
       "      <th>prevalentStroke</th>\n",
       "      <th>prevalentHyp</th>\n",
       "      <th>diabetes</th>\n",
       "      <th>totChol</th>\n",
       "      <th>sysBP</th>\n",
       "      <th>diaBP</th>\n",
       "      <th>BMI</th>\n",
       "      <th>heartRate</th>\n",
       "      <th>glucose</th>\n",
       "      <th>TenYearCHD</th>\n",
       "    </tr>\n",
       "  </thead>\n",
       "  <tbody>\n",
       "    <tr>\n",
       "      <th>0</th>\n",
       "      <td>1</td>\n",
       "      <td>39</td>\n",
       "      <td>4.0</td>\n",
       "      <td>0</td>\n",
       "      <td>0.0</td>\n",
       "      <td>0.0</td>\n",
       "      <td>0</td>\n",
       "      <td>0</td>\n",
       "      <td>0</td>\n",
       "      <td>195.0</td>\n",
       "      <td>106.0</td>\n",
       "      <td>70.0</td>\n",
       "      <td>26.97</td>\n",
       "      <td>80.0</td>\n",
       "      <td>77.0</td>\n",
       "      <td>0</td>\n",
       "    </tr>\n",
       "    <tr>\n",
       "      <th>1</th>\n",
       "      <td>0</td>\n",
       "      <td>46</td>\n",
       "      <td>2.0</td>\n",
       "      <td>0</td>\n",
       "      <td>0.0</td>\n",
       "      <td>0.0</td>\n",
       "      <td>0</td>\n",
       "      <td>0</td>\n",
       "      <td>0</td>\n",
       "      <td>250.0</td>\n",
       "      <td>121.0</td>\n",
       "      <td>81.0</td>\n",
       "      <td>28.73</td>\n",
       "      <td>95.0</td>\n",
       "      <td>76.0</td>\n",
       "      <td>0</td>\n",
       "    </tr>\n",
       "    <tr>\n",
       "      <th>2</th>\n",
       "      <td>1</td>\n",
       "      <td>48</td>\n",
       "      <td>1.0</td>\n",
       "      <td>1</td>\n",
       "      <td>20.0</td>\n",
       "      <td>0.0</td>\n",
       "      <td>0</td>\n",
       "      <td>0</td>\n",
       "      <td>0</td>\n",
       "      <td>245.0</td>\n",
       "      <td>127.5</td>\n",
       "      <td>80.0</td>\n",
       "      <td>25.34</td>\n",
       "      <td>75.0</td>\n",
       "      <td>70.0</td>\n",
       "      <td>0</td>\n",
       "    </tr>\n",
       "    <tr>\n",
       "      <th>3</th>\n",
       "      <td>0</td>\n",
       "      <td>61</td>\n",
       "      <td>3.0</td>\n",
       "      <td>1</td>\n",
       "      <td>30.0</td>\n",
       "      <td>0.0</td>\n",
       "      <td>0</td>\n",
       "      <td>1</td>\n",
       "      <td>0</td>\n",
       "      <td>225.0</td>\n",
       "      <td>150.0</td>\n",
       "      <td>95.0</td>\n",
       "      <td>28.58</td>\n",
       "      <td>65.0</td>\n",
       "      <td>103.0</td>\n",
       "      <td>1</td>\n",
       "    </tr>\n",
       "    <tr>\n",
       "      <th>4</th>\n",
       "      <td>0</td>\n",
       "      <td>46</td>\n",
       "      <td>3.0</td>\n",
       "      <td>1</td>\n",
       "      <td>23.0</td>\n",
       "      <td>0.0</td>\n",
       "      <td>0</td>\n",
       "      <td>0</td>\n",
       "      <td>0</td>\n",
       "      <td>285.0</td>\n",
       "      <td>130.0</td>\n",
       "      <td>84.0</td>\n",
       "      <td>23.10</td>\n",
       "      <td>85.0</td>\n",
       "      <td>85.0</td>\n",
       "      <td>0</td>\n",
       "    </tr>\n",
       "  </tbody>\n",
       "</table>\n",
       "</div>"
      ],
      "text/plain": [
       "   male  age  education  currentSmoker  cigsPerDay  BPMeds  prevalentStroke  \\\n",
       "0     1   39        4.0              0         0.0     0.0                0   \n",
       "1     0   46        2.0              0         0.0     0.0                0   \n",
       "2     1   48        1.0              1        20.0     0.0                0   \n",
       "3     0   61        3.0              1        30.0     0.0                0   \n",
       "4     0   46        3.0              1        23.0     0.0                0   \n",
       "\n",
       "   prevalentHyp  diabetes  totChol  sysBP  diaBP    BMI  heartRate  glucose  \\\n",
       "0             0         0    195.0  106.0   70.0  26.97       80.0     77.0   \n",
       "1             0         0    250.0  121.0   81.0  28.73       95.0     76.0   \n",
       "2             0         0    245.0  127.5   80.0  25.34       75.0     70.0   \n",
       "3             1         0    225.0  150.0   95.0  28.58       65.0    103.0   \n",
       "4             0         0    285.0  130.0   84.0  23.10       85.0     85.0   \n",
       "\n",
       "   TenYearCHD  \n",
       "0           0  \n",
       "1           0  \n",
       "2           0  \n",
       "3           1  \n",
       "4           0  "
      ]
     },
     "execution_count": 3,
     "metadata": {},
     "output_type": "execute_result"
    }
   ],
   "source": [
    "df.head()"
   ]
  },
  {
   "cell_type": "code",
   "execution_count": 4,
   "metadata": {},
   "outputs": [
    {
     "name": "stdout",
     "output_type": "stream",
     "text": [
      "<class 'pandas.core.frame.DataFrame'>\n",
      "RangeIndex: 4238 entries, 0 to 4237\n",
      "Data columns (total 16 columns):\n",
      " #   Column           Non-Null Count  Dtype  \n",
      "---  ------           --------------  -----  \n",
      " 0   male             4238 non-null   int64  \n",
      " 1   age              4238 non-null   int64  \n",
      " 2   education        4133 non-null   float64\n",
      " 3   currentSmoker    4238 non-null   int64  \n",
      " 4   cigsPerDay       4209 non-null   float64\n",
      " 5   BPMeds           4185 non-null   float64\n",
      " 6   prevalentStroke  4238 non-null   int64  \n",
      " 7   prevalentHyp     4238 non-null   int64  \n",
      " 8   diabetes         4238 non-null   int64  \n",
      " 9   totChol          4188 non-null   float64\n",
      " 10  sysBP            4238 non-null   float64\n",
      " 11  diaBP            4238 non-null   float64\n",
      " 12  BMI              4219 non-null   float64\n",
      " 13  heartRate        4237 non-null   float64\n",
      " 14  glucose          3850 non-null   float64\n",
      " 15  TenYearCHD       4238 non-null   int64  \n",
      "dtypes: float64(9), int64(7)\n",
      "memory usage: 529.9 KB\n"
     ]
    }
   ],
   "source": [
    "df.info()"
   ]
  },
  {
   "cell_type": "code",
   "execution_count": 5,
   "metadata": {},
   "outputs": [
    {
     "data": {
      "text/plain": [
       "male                 0\n",
       "age                  0\n",
       "education          105\n",
       "currentSmoker        0\n",
       "cigsPerDay          29\n",
       "BPMeds              53\n",
       "prevalentStroke      0\n",
       "prevalentHyp         0\n",
       "diabetes             0\n",
       "totChol             50\n",
       "sysBP                0\n",
       "diaBP                0\n",
       "BMI                 19\n",
       "heartRate            1\n",
       "glucose            388\n",
       "TenYearCHD           0\n",
       "dtype: int64"
      ]
     },
     "execution_count": 5,
     "metadata": {},
     "output_type": "execute_result"
    }
   ],
   "source": [
    "df.isnull().sum()"
   ]
  },
  {
   "cell_type": "code",
   "execution_count": 6,
   "metadata": {},
   "outputs": [],
   "source": [
    "#Here, we will be filling the null values in the glucose, totChol and BMI columns with the mean values\n",
    "df['glucose'] = df['glucose'].fillna(df['glucose'].mean())\n",
    "df['totChol'] = df['totChol'].fillna(df['totChol'].mean())\n",
    "df['BMI'] = df['BMI'].fillna(df['BMI'].mean())"
   ]
  },
  {
   "cell_type": "code",
   "execution_count": 7,
   "metadata": {},
   "outputs": [
    {
     "data": {
      "text/plain": [
       "male                 0\n",
       "age                  0\n",
       "education          105\n",
       "currentSmoker        0\n",
       "cigsPerDay          29\n",
       "BPMeds              53\n",
       "prevalentStroke      0\n",
       "prevalentHyp         0\n",
       "diabetes             0\n",
       "totChol              0\n",
       "sysBP                0\n",
       "diaBP                0\n",
       "BMI                  0\n",
       "heartRate            1\n",
       "glucose              0\n",
       "TenYearCHD           0\n",
       "dtype: int64"
      ]
     },
     "execution_count": 7,
     "metadata": {},
     "output_type": "execute_result"
    }
   ],
   "source": [
    "df.isnull().sum()"
   ]
  },
  {
   "cell_type": "code",
   "execution_count": 8,
   "metadata": {},
   "outputs": [],
   "source": [
    "df.dropna(axis=0,inplace=True)"
   ]
  },
  {
   "cell_type": "code",
   "execution_count": 9,
   "metadata": {},
   "outputs": [
    {
     "data": {
      "text/plain": [
       "male               0\n",
       "age                0\n",
       "education          0\n",
       "currentSmoker      0\n",
       "cigsPerDay         0\n",
       "BPMeds             0\n",
       "prevalentStroke    0\n",
       "prevalentHyp       0\n",
       "diabetes           0\n",
       "totChol            0\n",
       "sysBP              0\n",
       "diaBP              0\n",
       "BMI                0\n",
       "heartRate          0\n",
       "glucose            0\n",
       "TenYearCHD         0\n",
       "dtype: int64"
      ]
     },
     "execution_count": 9,
     "metadata": {},
     "output_type": "execute_result"
    }
   ],
   "source": [
    "df.isnull().sum()"
   ]
  },
  {
   "cell_type": "code",
   "execution_count": 10,
   "metadata": {},
   "outputs": [
    {
     "data": {
      "text/html": [
       "<div>\n",
       "<style scoped>\n",
       "    .dataframe tbody tr th:only-of-type {\n",
       "        vertical-align: middle;\n",
       "    }\n",
       "\n",
       "    .dataframe tbody tr th {\n",
       "        vertical-align: top;\n",
       "    }\n",
       "\n",
       "    .dataframe thead th {\n",
       "        text-align: right;\n",
       "    }\n",
       "</style>\n",
       "<table border=\"1\" class=\"dataframe\">\n",
       "  <thead>\n",
       "    <tr style=\"text-align: right;\">\n",
       "      <th></th>\n",
       "      <th>count</th>\n",
       "      <th>mean</th>\n",
       "      <th>std</th>\n",
       "      <th>min</th>\n",
       "      <th>25%</th>\n",
       "      <th>50%</th>\n",
       "      <th>75%</th>\n",
       "      <th>max</th>\n",
       "    </tr>\n",
       "  </thead>\n",
       "  <tbody>\n",
       "    <tr>\n",
       "      <th>male</th>\n",
       "      <td>4052.0</td>\n",
       "      <td>0.428677</td>\n",
       "      <td>0.494948</td>\n",
       "      <td>0.00</td>\n",
       "      <td>0.0000</td>\n",
       "      <td>0.0</td>\n",
       "      <td>1.00</td>\n",
       "      <td>1.0</td>\n",
       "    </tr>\n",
       "    <tr>\n",
       "      <th>age</th>\n",
       "      <td>4052.0</td>\n",
       "      <td>49.507404</td>\n",
       "      <td>8.552115</td>\n",
       "      <td>32.00</td>\n",
       "      <td>42.0000</td>\n",
       "      <td>49.0</td>\n",
       "      <td>56.00</td>\n",
       "      <td>70.0</td>\n",
       "    </tr>\n",
       "    <tr>\n",
       "      <th>education</th>\n",
       "      <td>4052.0</td>\n",
       "      <td>1.980257</td>\n",
       "      <td>1.019245</td>\n",
       "      <td>1.00</td>\n",
       "      <td>1.0000</td>\n",
       "      <td>2.0</td>\n",
       "      <td>3.00</td>\n",
       "      <td>4.0</td>\n",
       "    </tr>\n",
       "    <tr>\n",
       "      <th>currentSmoker</th>\n",
       "      <td>4052.0</td>\n",
       "      <td>0.492103</td>\n",
       "      <td>0.499999</td>\n",
       "      <td>0.00</td>\n",
       "      <td>0.0000</td>\n",
       "      <td>0.0</td>\n",
       "      <td>1.00</td>\n",
       "      <td>1.0</td>\n",
       "    </tr>\n",
       "    <tr>\n",
       "      <th>cigsPerDay</th>\n",
       "      <td>4052.0</td>\n",
       "      <td>9.038993</td>\n",
       "      <td>11.922504</td>\n",
       "      <td>0.00</td>\n",
       "      <td>0.0000</td>\n",
       "      <td>0.0</td>\n",
       "      <td>20.00</td>\n",
       "      <td>70.0</td>\n",
       "    </tr>\n",
       "    <tr>\n",
       "      <th>BPMeds</th>\n",
       "      <td>4052.0</td>\n",
       "      <td>0.029862</td>\n",
       "      <td>0.170227</td>\n",
       "      <td>0.00</td>\n",
       "      <td>0.0000</td>\n",
       "      <td>0.0</td>\n",
       "      <td>0.00</td>\n",
       "      <td>1.0</td>\n",
       "    </tr>\n",
       "    <tr>\n",
       "      <th>prevalentStroke</th>\n",
       "      <td>4052.0</td>\n",
       "      <td>0.005923</td>\n",
       "      <td>0.076742</td>\n",
       "      <td>0.00</td>\n",
       "      <td>0.0000</td>\n",
       "      <td>0.0</td>\n",
       "      <td>0.00</td>\n",
       "      <td>1.0</td>\n",
       "    </tr>\n",
       "    <tr>\n",
       "      <th>prevalentHyp</th>\n",
       "      <td>4052.0</td>\n",
       "      <td>0.309970</td>\n",
       "      <td>0.462538</td>\n",
       "      <td>0.00</td>\n",
       "      <td>0.0000</td>\n",
       "      <td>0.0</td>\n",
       "      <td>1.00</td>\n",
       "      <td>1.0</td>\n",
       "    </tr>\n",
       "    <tr>\n",
       "      <th>diabetes</th>\n",
       "      <td>4052.0</td>\n",
       "      <td>0.025666</td>\n",
       "      <td>0.158157</td>\n",
       "      <td>0.00</td>\n",
       "      <td>0.0000</td>\n",
       "      <td>0.0</td>\n",
       "      <td>0.00</td>\n",
       "      <td>1.0</td>\n",
       "    </tr>\n",
       "    <tr>\n",
       "      <th>totChol</th>\n",
       "      <td>4052.0</td>\n",
       "      <td>236.559387</td>\n",
       "      <td>43.758355</td>\n",
       "      <td>107.00</td>\n",
       "      <td>206.0000</td>\n",
       "      <td>234.0</td>\n",
       "      <td>262.00</td>\n",
       "      <td>600.0</td>\n",
       "    </tr>\n",
       "    <tr>\n",
       "      <th>sysBP</th>\n",
       "      <td>4052.0</td>\n",
       "      <td>132.280726</td>\n",
       "      <td>22.030328</td>\n",
       "      <td>83.50</td>\n",
       "      <td>117.0000</td>\n",
       "      <td>128.0</td>\n",
       "      <td>143.50</td>\n",
       "      <td>295.0</td>\n",
       "    </tr>\n",
       "    <tr>\n",
       "      <th>diaBP</th>\n",
       "      <td>4052.0</td>\n",
       "      <td>82.854146</td>\n",
       "      <td>11.911250</td>\n",
       "      <td>48.00</td>\n",
       "      <td>75.0000</td>\n",
       "      <td>82.0</td>\n",
       "      <td>89.50</td>\n",
       "      <td>142.5</td>\n",
       "    </tr>\n",
       "    <tr>\n",
       "      <th>BMI</th>\n",
       "      <td>4052.0</td>\n",
       "      <td>25.779190</td>\n",
       "      <td>4.072568</td>\n",
       "      <td>15.54</td>\n",
       "      <td>23.0675</td>\n",
       "      <td>25.4</td>\n",
       "      <td>27.99</td>\n",
       "      <td>56.8</td>\n",
       "    </tr>\n",
       "    <tr>\n",
       "      <th>heartRate</th>\n",
       "      <td>4052.0</td>\n",
       "      <td>75.904985</td>\n",
       "      <td>12.072545</td>\n",
       "      <td>44.00</td>\n",
       "      <td>68.0000</td>\n",
       "      <td>75.0</td>\n",
       "      <td>83.00</td>\n",
       "      <td>143.0</td>\n",
       "    </tr>\n",
       "    <tr>\n",
       "      <th>glucose</th>\n",
       "      <td>4052.0</td>\n",
       "      <td>81.922153</td>\n",
       "      <td>22.984099</td>\n",
       "      <td>40.00</td>\n",
       "      <td>72.0000</td>\n",
       "      <td>79.5</td>\n",
       "      <td>85.00</td>\n",
       "      <td>394.0</td>\n",
       "    </tr>\n",
       "    <tr>\n",
       "      <th>TenYearCHD</th>\n",
       "      <td>4052.0</td>\n",
       "      <td>0.151530</td>\n",
       "      <td>0.358609</td>\n",
       "      <td>0.00</td>\n",
       "      <td>0.0000</td>\n",
       "      <td>0.0</td>\n",
       "      <td>0.00</td>\n",
       "      <td>1.0</td>\n",
       "    </tr>\n",
       "  </tbody>\n",
       "</table>\n",
       "</div>"
      ],
      "text/plain": [
       "                  count        mean        std     min       25%    50%  \\\n",
       "male             4052.0    0.428677   0.494948    0.00    0.0000    0.0   \n",
       "age              4052.0   49.507404   8.552115   32.00   42.0000   49.0   \n",
       "education        4052.0    1.980257   1.019245    1.00    1.0000    2.0   \n",
       "currentSmoker    4052.0    0.492103   0.499999    0.00    0.0000    0.0   \n",
       "cigsPerDay       4052.0    9.038993  11.922504    0.00    0.0000    0.0   \n",
       "BPMeds           4052.0    0.029862   0.170227    0.00    0.0000    0.0   \n",
       "prevalentStroke  4052.0    0.005923   0.076742    0.00    0.0000    0.0   \n",
       "prevalentHyp     4052.0    0.309970   0.462538    0.00    0.0000    0.0   \n",
       "diabetes         4052.0    0.025666   0.158157    0.00    0.0000    0.0   \n",
       "totChol          4052.0  236.559387  43.758355  107.00  206.0000  234.0   \n",
       "sysBP            4052.0  132.280726  22.030328   83.50  117.0000  128.0   \n",
       "diaBP            4052.0   82.854146  11.911250   48.00   75.0000   82.0   \n",
       "BMI              4052.0   25.779190   4.072568   15.54   23.0675   25.4   \n",
       "heartRate        4052.0   75.904985  12.072545   44.00   68.0000   75.0   \n",
       "glucose          4052.0   81.922153  22.984099   40.00   72.0000   79.5   \n",
       "TenYearCHD       4052.0    0.151530   0.358609    0.00    0.0000    0.0   \n",
       "\n",
       "                    75%    max  \n",
       "male               1.00    1.0  \n",
       "age               56.00   70.0  \n",
       "education          3.00    4.0  \n",
       "currentSmoker      1.00    1.0  \n",
       "cigsPerDay        20.00   70.0  \n",
       "BPMeds             0.00    1.0  \n",
       "prevalentStroke    0.00    1.0  \n",
       "prevalentHyp       1.00    1.0  \n",
       "diabetes           0.00    1.0  \n",
       "totChol          262.00  600.0  \n",
       "sysBP            143.50  295.0  \n",
       "diaBP             89.50  142.5  \n",
       "BMI               27.99   56.8  \n",
       "heartRate         83.00  143.0  \n",
       "glucose           85.00  394.0  \n",
       "TenYearCHD         0.00    1.0  "
      ]
     },
     "execution_count": 10,
     "metadata": {},
     "output_type": "execute_result"
    }
   ],
   "source": [
    "df.describe().transpose()"
   ]
  },
  {
   "cell_type": "markdown",
   "metadata": {},
   "source": [
    "# Data Visualization"
   ]
  },
  {
   "cell_type": "code",
   "execution_count": 11,
   "metadata": {},
   "outputs": [
    {
     "data": {
      "text/html": [
       "<style  type=\"text/css\" >\n",
       "    #T_5b4bbd89_e9bf_11ea_ad84_507b9da5cd80row0_col0 {\n",
       "            background-color:  #006837;\n",
       "            color:  #f1f1f1;\n",
       "        }    #T_5b4bbd89_e9bf_11ea_ad84_507b9da5cd80row0_col1 {\n",
       "            background-color:  #e65036;\n",
       "            color:  #000000;\n",
       "        }    #T_5b4bbd89_e9bf_11ea_ad84_507b9da5cd80row0_col2 {\n",
       "            background-color:  #e65036;\n",
       "            color:  #000000;\n",
       "        }    #T_5b4bbd89_e9bf_11ea_ad84_507b9da5cd80row0_col3 {\n",
       "            background-color:  #fdc171;\n",
       "            color:  #000000;\n",
       "        }    #T_5b4bbd89_e9bf_11ea_ad84_507b9da5cd80row0_col4 {\n",
       "            background-color:  #feea9b;\n",
       "            color:  #000000;\n",
       "        }    #T_5b4bbd89_e9bf_11ea_ad84_507b9da5cd80row0_col5 {\n",
       "            background-color:  #a50026;\n",
       "            color:  #f1f1f1;\n",
       "        }    #T_5b4bbd89_e9bf_11ea_ad84_507b9da5cd80row0_col6 {\n",
       "            background-color:  #b30d26;\n",
       "            color:  #f1f1f1;\n",
       "        }    #T_5b4bbd89_e9bf_11ea_ad84_507b9da5cd80row0_col7 {\n",
       "            background-color:  #d62f27;\n",
       "            color:  #f1f1f1;\n",
       "        }    #T_5b4bbd89_e9bf_11ea_ad84_507b9da5cd80row0_col8 {\n",
       "            background-color:  #be1827;\n",
       "            color:  #f1f1f1;\n",
       "        }    #T_5b4bbd89_e9bf_11ea_ad84_507b9da5cd80row0_col9 {\n",
       "            background-color:  #a50026;\n",
       "            color:  #f1f1f1;\n",
       "        }    #T_5b4bbd89_e9bf_11ea_ad84_507b9da5cd80row0_col10 {\n",
       "            background-color:  #d02927;\n",
       "            color:  #f1f1f1;\n",
       "        }    #T_5b4bbd89_e9bf_11ea_ad84_507b9da5cd80row0_col11 {\n",
       "            background-color:  #e54e35;\n",
       "            color:  #000000;\n",
       "        }    #T_5b4bbd89_e9bf_11ea_ad84_507b9da5cd80row0_col12 {\n",
       "            background-color:  #f57245;\n",
       "            color:  #000000;\n",
       "        }    #T_5b4bbd89_e9bf_11ea_ad84_507b9da5cd80row0_col13 {\n",
       "            background-color:  #a50026;\n",
       "            color:  #f1f1f1;\n",
       "        }    #T_5b4bbd89_e9bf_11ea_ad84_507b9da5cd80row0_col14 {\n",
       "            background-color:  #c01a27;\n",
       "            color:  #f1f1f1;\n",
       "        }    #T_5b4bbd89_e9bf_11ea_ad84_507b9da5cd80row0_col15 {\n",
       "            background-color:  #e14430;\n",
       "            color:  #f1f1f1;\n",
       "        }    #T_5b4bbd89_e9bf_11ea_ad84_507b9da5cd80row1_col0 {\n",
       "            background-color:  #ce2827;\n",
       "            color:  #f1f1f1;\n",
       "        }    #T_5b4bbd89_e9bf_11ea_ad84_507b9da5cd80row1_col1 {\n",
       "            background-color:  #006837;\n",
       "            color:  #f1f1f1;\n",
       "        }    #T_5b4bbd89_e9bf_11ea_ad84_507b9da5cd80row1_col2 {\n",
       "            background-color:  #a50026;\n",
       "            color:  #f1f1f1;\n",
       "        }    #T_5b4bbd89_e9bf_11ea_ad84_507b9da5cd80row1_col3 {\n",
       "            background-color:  #a50026;\n",
       "            color:  #f1f1f1;\n",
       "        }    #T_5b4bbd89_e9bf_11ea_ad84_507b9da5cd80row1_col4 {\n",
       "            background-color:  #a50026;\n",
       "            color:  #f1f1f1;\n",
       "        }    #T_5b4bbd89_e9bf_11ea_ad84_507b9da5cd80row1_col5 {\n",
       "            background-color:  #eb5a3a;\n",
       "            color:  #000000;\n",
       "        }    #T_5b4bbd89_e9bf_11ea_ad84_507b9da5cd80row1_col6 {\n",
       "            background-color:  #ce2827;\n",
       "            color:  #f1f1f1;\n",
       "        }    #T_5b4bbd89_e9bf_11ea_ad84_507b9da5cd80row1_col7 {\n",
       "            background-color:  #fed27f;\n",
       "            color:  #000000;\n",
       "        }    #T_5b4bbd89_e9bf_11ea_ad84_507b9da5cd80row1_col8 {\n",
       "            background-color:  #e14430;\n",
       "            color:  #f1f1f1;\n",
       "        }    #T_5b4bbd89_e9bf_11ea_ad84_507b9da5cd80row1_col9 {\n",
       "            background-color:  #fdb365;\n",
       "            color:  #000000;\n",
       "        }    #T_5b4bbd89_e9bf_11ea_ad84_507b9da5cd80row1_col10 {\n",
       "            background-color:  #fff3ac;\n",
       "            color:  #000000;\n",
       "        }    #T_5b4bbd89_e9bf_11ea_ad84_507b9da5cd80row1_col11 {\n",
       "            background-color:  #fca55d;\n",
       "            color:  #000000;\n",
       "        }    #T_5b4bbd89_e9bf_11ea_ad84_507b9da5cd80row1_col12 {\n",
       "            background-color:  #f99153;\n",
       "            color:  #000000;\n",
       "        }    #T_5b4bbd89_e9bf_11ea_ad84_507b9da5cd80row1_col13 {\n",
       "            background-color:  #d42d27;\n",
       "            color:  #f1f1f1;\n",
       "        }    #T_5b4bbd89_e9bf_11ea_ad84_507b9da5cd80row1_col14 {\n",
       "            background-color:  #e75337;\n",
       "            color:  #000000;\n",
       "        }    #T_5b4bbd89_e9bf_11ea_ad84_507b9da5cd80row1_col15 {\n",
       "            background-color:  #fa9857;\n",
       "            color:  #000000;\n",
       "        }    #T_5b4bbd89_e9bf_11ea_ad84_507b9da5cd80row2_col0 {\n",
       "            background-color:  #dc3b2c;\n",
       "            color:  #f1f1f1;\n",
       "        }    #T_5b4bbd89_e9bf_11ea_ad84_507b9da5cd80row2_col1 {\n",
       "            background-color:  #b71126;\n",
       "            color:  #f1f1f1;\n",
       "        }    #T_5b4bbd89_e9bf_11ea_ad84_507b9da5cd80row2_col2 {\n",
       "            background-color:  #006837;\n",
       "            color:  #f1f1f1;\n",
       "        }    #T_5b4bbd89_e9bf_11ea_ad84_507b9da5cd80row2_col3 {\n",
       "            background-color:  #f16640;\n",
       "            color:  #000000;\n",
       "        }    #T_5b4bbd89_e9bf_11ea_ad84_507b9da5cd80row2_col4 {\n",
       "            background-color:  #ea5739;\n",
       "            color:  #000000;\n",
       "        }    #T_5b4bbd89_e9bf_11ea_ad84_507b9da5cd80row2_col5 {\n",
       "            background-color:  #b91326;\n",
       "            color:  #f1f1f1;\n",
       "        }    #T_5b4bbd89_e9bf_11ea_ad84_507b9da5cd80row2_col6 {\n",
       "            background-color:  #a50026;\n",
       "            color:  #f1f1f1;\n",
       "        }    #T_5b4bbd89_e9bf_11ea_ad84_507b9da5cd80row2_col7 {\n",
       "            background-color:  #ad0826;\n",
       "            color:  #f1f1f1;\n",
       "        }    #T_5b4bbd89_e9bf_11ea_ad84_507b9da5cd80row2_col8 {\n",
       "            background-color:  #a50026;\n",
       "            color:  #f1f1f1;\n",
       "        }    #T_5b4bbd89_e9bf_11ea_ad84_507b9da5cd80row2_col9 {\n",
       "            background-color:  #b91326;\n",
       "            color:  #f1f1f1;\n",
       "        }    #T_5b4bbd89_e9bf_11ea_ad84_507b9da5cd80row2_col10 {\n",
       "            background-color:  #a50026;\n",
       "            color:  #f1f1f1;\n",
       "        }    #T_5b4bbd89_e9bf_11ea_ad84_507b9da5cd80row2_col11 {\n",
       "            background-color:  #b71126;\n",
       "            color:  #f1f1f1;\n",
       "        }    #T_5b4bbd89_e9bf_11ea_ad84_507b9da5cd80row2_col12 {\n",
       "            background-color:  #b10b26;\n",
       "            color:  #f1f1f1;\n",
       "        }    #T_5b4bbd89_e9bf_11ea_ad84_507b9da5cd80row2_col13 {\n",
       "            background-color:  #be1827;\n",
       "            color:  #f1f1f1;\n",
       "        }    #T_5b4bbd89_e9bf_11ea_ad84_507b9da5cd80row2_col14 {\n",
       "            background-color:  #ad0826;\n",
       "            color:  #f1f1f1;\n",
       "        }    #T_5b4bbd89_e9bf_11ea_ad84_507b9da5cd80row2_col15 {\n",
       "            background-color:  #a50026;\n",
       "            color:  #f1f1f1;\n",
       "        }    #T_5b4bbd89_e9bf_11ea_ad84_507b9da5cd80row3_col0 {\n",
       "            background-color:  #fba35c;\n",
       "            color:  #000000;\n",
       "        }    #T_5b4bbd89_e9bf_11ea_ad84_507b9da5cd80row3_col1 {\n",
       "            background-color:  #a50026;\n",
       "            color:  #f1f1f1;\n",
       "        }    #T_5b4bbd89_e9bf_11ea_ad84_507b9da5cd80row3_col2 {\n",
       "            background-color:  #e75337;\n",
       "            color:  #000000;\n",
       "        }    #T_5b4bbd89_e9bf_11ea_ad84_507b9da5cd80row3_col3 {\n",
       "            background-color:  #006837;\n",
       "            color:  #f1f1f1;\n",
       "        }    #T_5b4bbd89_e9bf_11ea_ad84_507b9da5cd80row3_col4 {\n",
       "            background-color:  #60ba62;\n",
       "            color:  #000000;\n",
       "        }    #T_5b4bbd89_e9bf_11ea_ad84_507b9da5cd80row3_col5 {\n",
       "            background-color:  #a70226;\n",
       "            color:  #f1f1f1;\n",
       "        }    #T_5b4bbd89_e9bf_11ea_ad84_507b9da5cd80row3_col6 {\n",
       "            background-color:  #a50026;\n",
       "            color:  #f1f1f1;\n",
       "        }    #T_5b4bbd89_e9bf_11ea_ad84_507b9da5cd80row3_col7 {\n",
       "            background-color:  #a50026;\n",
       "            color:  #f1f1f1;\n",
       "        }    #T_5b4bbd89_e9bf_11ea_ad84_507b9da5cd80row3_col8 {\n",
       "            background-color:  #a50026;\n",
       "            color:  #f1f1f1;\n",
       "        }    #T_5b4bbd89_e9bf_11ea_ad84_507b9da5cd80row3_col9 {\n",
       "            background-color:  #ad0826;\n",
       "            color:  #f1f1f1;\n",
       "        }    #T_5b4bbd89_e9bf_11ea_ad84_507b9da5cd80row3_col10 {\n",
       "            background-color:  #a50026;\n",
       "            color:  #f1f1f1;\n",
       "        }    #T_5b4bbd89_e9bf_11ea_ad84_507b9da5cd80row3_col11 {\n",
       "            background-color:  #a50026;\n",
       "            color:  #f1f1f1;\n",
       "        }    #T_5b4bbd89_e9bf_11ea_ad84_507b9da5cd80row3_col12 {\n",
       "            background-color:  #a50026;\n",
       "            color:  #f1f1f1;\n",
       "        }    #T_5b4bbd89_e9bf_11ea_ad84_507b9da5cd80row3_col13 {\n",
       "            background-color:  #e65036;\n",
       "            color:  #000000;\n",
       "        }    #T_5b4bbd89_e9bf_11ea_ad84_507b9da5cd80row3_col14 {\n",
       "            background-color:  #a50026;\n",
       "            color:  #f1f1f1;\n",
       "        }    #T_5b4bbd89_e9bf_11ea_ad84_507b9da5cd80row3_col15 {\n",
       "            background-color:  #c82227;\n",
       "            color:  #f1f1f1;\n",
       "        }    #T_5b4bbd89_e9bf_11ea_ad84_507b9da5cd80row4_col0 {\n",
       "            background-color:  #fedc88;\n",
       "            color:  #000000;\n",
       "        }    #T_5b4bbd89_e9bf_11ea_ad84_507b9da5cd80row4_col1 {\n",
       "            background-color:  #ad0826;\n",
       "            color:  #f1f1f1;\n",
       "        }    #T_5b4bbd89_e9bf_11ea_ad84_507b9da5cd80row4_col2 {\n",
       "            background-color:  #e44c34;\n",
       "            color:  #000000;\n",
       "        }    #T_5b4bbd89_e9bf_11ea_ad84_507b9da5cd80row4_col3 {\n",
       "            background-color:  #5db961;\n",
       "            color:  #000000;\n",
       "        }    #T_5b4bbd89_e9bf_11ea_ad84_507b9da5cd80row4_col4 {\n",
       "            background-color:  #006837;\n",
       "            color:  #f1f1f1;\n",
       "        }    #T_5b4bbd89_e9bf_11ea_ad84_507b9da5cd80row4_col5 {\n",
       "            background-color:  #a70226;\n",
       "            color:  #f1f1f1;\n",
       "        }    #T_5b4bbd89_e9bf_11ea_ad84_507b9da5cd80row4_col6 {\n",
       "            background-color:  #a50026;\n",
       "            color:  #f1f1f1;\n",
       "        }    #T_5b4bbd89_e9bf_11ea_ad84_507b9da5cd80row4_col7 {\n",
       "            background-color:  #b50f26;\n",
       "            color:  #f1f1f1;\n",
       "        }    #T_5b4bbd89_e9bf_11ea_ad84_507b9da5cd80row4_col8 {\n",
       "            background-color:  #a70226;\n",
       "            color:  #f1f1f1;\n",
       "        }    #T_5b4bbd89_e9bf_11ea_ad84_507b9da5cd80row4_col9 {\n",
       "            background-color:  #b91326;\n",
       "            color:  #f1f1f1;\n",
       "        }    #T_5b4bbd89_e9bf_11ea_ad84_507b9da5cd80row4_col10 {\n",
       "            background-color:  #b71126;\n",
       "            color:  #f1f1f1;\n",
       "        }    #T_5b4bbd89_e9bf_11ea_ad84_507b9da5cd80row4_col11 {\n",
       "            background-color:  #bd1726;\n",
       "            color:  #f1f1f1;\n",
       "        }    #T_5b4bbd89_e9bf_11ea_ad84_507b9da5cd80row4_col12 {\n",
       "            background-color:  #c41e27;\n",
       "            color:  #f1f1f1;\n",
       "        }    #T_5b4bbd89_e9bf_11ea_ad84_507b9da5cd80row4_col13 {\n",
       "            background-color:  #ea5739;\n",
       "            color:  #000000;\n",
       "        }    #T_5b4bbd89_e9bf_11ea_ad84_507b9da5cd80row4_col14 {\n",
       "            background-color:  #a50026;\n",
       "            color:  #f1f1f1;\n",
       "        }    #T_5b4bbd89_e9bf_11ea_ad84_507b9da5cd80row4_col15 {\n",
       "            background-color:  #d83128;\n",
       "            color:  #f1f1f1;\n",
       "        }    #T_5b4bbd89_e9bf_11ea_ad84_507b9da5cd80row5_col0 {\n",
       "            background-color:  #c01a27;\n",
       "            color:  #f1f1f1;\n",
       "        }    #T_5b4bbd89_e9bf_11ea_ad84_507b9da5cd80row5_col1 {\n",
       "            background-color:  #fba05b;\n",
       "            color:  #000000;\n",
       "        }    #T_5b4bbd89_e9bf_11ea_ad84_507b9da5cd80row5_col2 {\n",
       "            background-color:  #e0422f;\n",
       "            color:  #f1f1f1;\n",
       "        }    #T_5b4bbd89_e9bf_11ea_ad84_507b9da5cd80row5_col3 {\n",
       "            background-color:  #e14430;\n",
       "            color:  #f1f1f1;\n",
       "        }    #T_5b4bbd89_e9bf_11ea_ad84_507b9da5cd80row5_col4 {\n",
       "            background-color:  #dc3b2c;\n",
       "            color:  #f1f1f1;\n",
       "        }    #T_5b4bbd89_e9bf_11ea_ad84_507b9da5cd80row5_col5 {\n",
       "            background-color:  #006837;\n",
       "            color:  #f1f1f1;\n",
       "        }    #T_5b4bbd89_e9bf_11ea_ad84_507b9da5cd80row5_col6 {\n",
       "            background-color:  #e44c34;\n",
       "            color:  #000000;\n",
       "        }    #T_5b4bbd89_e9bf_11ea_ad84_507b9da5cd80row5_col7 {\n",
       "            background-color:  #fdbd6d;\n",
       "            color:  #000000;\n",
       "        }    #T_5b4bbd89_e9bf_11ea_ad84_507b9da5cd80row5_col8 {\n",
       "            background-color:  #cc2627;\n",
       "            color:  #f1f1f1;\n",
       "        }    #T_5b4bbd89_e9bf_11ea_ad84_507b9da5cd80row5_col9 {\n",
       "            background-color:  #e34933;\n",
       "            color:  #f1f1f1;\n",
       "        }    #T_5b4bbd89_e9bf_11ea_ad84_507b9da5cd80row5_col10 {\n",
       "            background-color:  #fdc372;\n",
       "            color:  #000000;\n",
       "        }    #T_5b4bbd89_e9bf_11ea_ad84_507b9da5cd80row5_col11 {\n",
       "            background-color:  #fb9d59;\n",
       "            color:  #000000;\n",
       "        }    #T_5b4bbd89_e9bf_11ea_ad84_507b9da5cd80row5_col12 {\n",
       "            background-color:  #f67f4b;\n",
       "            color:  #000000;\n",
       "        }    #T_5b4bbd89_e9bf_11ea_ad84_507b9da5cd80row5_col13 {\n",
       "            background-color:  #dc3b2c;\n",
       "            color:  #f1f1f1;\n",
       "        }    #T_5b4bbd89_e9bf_11ea_ad84_507b9da5cd80row5_col14 {\n",
       "            background-color:  #d62f27;\n",
       "            color:  #f1f1f1;\n",
       "        }    #T_5b4bbd89_e9bf_11ea_ad84_507b9da5cd80row5_col15 {\n",
       "            background-color:  #e24731;\n",
       "            color:  #f1f1f1;\n",
       "        }    #T_5b4bbd89_e9bf_11ea_ad84_507b9da5cd80row6_col0 {\n",
       "            background-color:  #d83128;\n",
       "            color:  #f1f1f1;\n",
       "        }    #T_5b4bbd89_e9bf_11ea_ad84_507b9da5cd80row6_col1 {\n",
       "            background-color:  #f67a49;\n",
       "            color:  #000000;\n",
       "        }    #T_5b4bbd89_e9bf_11ea_ad84_507b9da5cd80row6_col2 {\n",
       "            background-color:  #da362a;\n",
       "            color:  #f1f1f1;\n",
       "        }    #T_5b4bbd89_e9bf_11ea_ad84_507b9da5cd80row6_col3 {\n",
       "            background-color:  #e54e35;\n",
       "            color:  #000000;\n",
       "        }    #T_5b4bbd89_e9bf_11ea_ad84_507b9da5cd80row6_col4 {\n",
       "            background-color:  #e14430;\n",
       "            color:  #f1f1f1;\n",
       "        }    #T_5b4bbd89_e9bf_11ea_ad84_507b9da5cd80row6_col5 {\n",
       "            background-color:  #e95538;\n",
       "            color:  #000000;\n",
       "        }    #T_5b4bbd89_e9bf_11ea_ad84_507b9da5cd80row6_col6 {\n",
       "            background-color:  #006837;\n",
       "            color:  #f1f1f1;\n",
       "        }    #T_5b4bbd89_e9bf_11ea_ad84_507b9da5cd80row6_col7 {\n",
       "            background-color:  #e95538;\n",
       "            color:  #000000;\n",
       "        }    #T_5b4bbd89_e9bf_11ea_ad84_507b9da5cd80row6_col8 {\n",
       "            background-color:  #bb1526;\n",
       "            color:  #f1f1f1;\n",
       "        }    #T_5b4bbd89_e9bf_11ea_ad84_507b9da5cd80row6_col9 {\n",
       "            background-color:  #c21c27;\n",
       "            color:  #f1f1f1;\n",
       "        }    #T_5b4bbd89_e9bf_11ea_ad84_507b9da5cd80row6_col10 {\n",
       "            background-color:  #ea5739;\n",
       "            color:  #000000;\n",
       "        }    #T_5b4bbd89_e9bf_11ea_ad84_507b9da5cd80row6_col11 {\n",
       "            background-color:  #e34933;\n",
       "            color:  #f1f1f1;\n",
       "        }    #T_5b4bbd89_e9bf_11ea_ad84_507b9da5cd80row6_col12 {\n",
       "            background-color:  #ea5739;\n",
       "            color:  #000000;\n",
       "        }    #T_5b4bbd89_e9bf_11ea_ad84_507b9da5cd80row6_col13 {\n",
       "            background-color:  #d22b27;\n",
       "            color:  #f1f1f1;\n",
       "        }    #T_5b4bbd89_e9bf_11ea_ad84_507b9da5cd80row6_col14 {\n",
       "            background-color:  #c21c27;\n",
       "            color:  #f1f1f1;\n",
       "        }    #T_5b4bbd89_e9bf_11ea_ad84_507b9da5cd80row6_col15 {\n",
       "            background-color:  #d93429;\n",
       "            color:  #f1f1f1;\n",
       "        }    #T_5b4bbd89_e9bf_11ea_ad84_507b9da5cd80row7_col0 {\n",
       "            background-color:  #da362a;\n",
       "            color:  #f1f1f1;\n",
       "        }    #T_5b4bbd89_e9bf_11ea_ad84_507b9da5cd80row7_col1 {\n",
       "            background-color:  #fee999;\n",
       "            color:  #000000;\n",
       "        }    #T_5b4bbd89_e9bf_11ea_ad84_507b9da5cd80row7_col2 {\n",
       "            background-color:  #c62027;\n",
       "            color:  #f1f1f1;\n",
       "        }    #T_5b4bbd89_e9bf_11ea_ad84_507b9da5cd80row7_col3 {\n",
       "            background-color:  #d02927;\n",
       "            color:  #f1f1f1;\n",
       "        }    #T_5b4bbd89_e9bf_11ea_ad84_507b9da5cd80row7_col4 {\n",
       "            background-color:  #d83128;\n",
       "            color:  #f1f1f1;\n",
       "        }    #T_5b4bbd89_e9bf_11ea_ad84_507b9da5cd80row7_col5 {\n",
       "            background-color:  #fdad60;\n",
       "            color:  #000000;\n",
       "        }    #T_5b4bbd89_e9bf_11ea_ad84_507b9da5cd80row7_col6 {\n",
       "            background-color:  #d83128;\n",
       "            color:  #f1f1f1;\n",
       "        }    #T_5b4bbd89_e9bf_11ea_ad84_507b9da5cd80row7_col7 {\n",
       "            background-color:  #006837;\n",
       "            color:  #f1f1f1;\n",
       "        }    #T_5b4bbd89_e9bf_11ea_ad84_507b9da5cd80row7_col8 {\n",
       "            background-color:  #da362a;\n",
       "            color:  #f1f1f1;\n",
       "        }    #T_5b4bbd89_e9bf_11ea_ad84_507b9da5cd80row7_col9 {\n",
       "            background-color:  #f57748;\n",
       "            color:  #000000;\n",
       "        }    #T_5b4bbd89_e9bf_11ea_ad84_507b9da5cd80row7_col10 {\n",
       "            background-color:  #91d068;\n",
       "            color:  #000000;\n",
       "        }    #T_5b4bbd89_e9bf_11ea_ad84_507b9da5cd80row7_col11 {\n",
       "            background-color:  #bde379;\n",
       "            color:  #000000;\n",
       "        }    #T_5b4bbd89_e9bf_11ea_ad84_507b9da5cd80row7_col12 {\n",
       "            background-color:  #fee08b;\n",
       "            color:  #000000;\n",
       "        }    #T_5b4bbd89_e9bf_11ea_ad84_507b9da5cd80row7_col13 {\n",
       "            background-color:  #f8864f;\n",
       "            color:  #000000;\n",
       "        }    #T_5b4bbd89_e9bf_11ea_ad84_507b9da5cd80row7_col14 {\n",
       "            background-color:  #e0422f;\n",
       "            color:  #f1f1f1;\n",
       "        }    #T_5b4bbd89_e9bf_11ea_ad84_507b9da5cd80row7_col15 {\n",
       "            background-color:  #f67a49;\n",
       "            color:  #000000;\n",
       "        }    #T_5b4bbd89_e9bf_11ea_ad84_507b9da5cd80row8_col0 {\n",
       "            background-color:  #dc3b2c;\n",
       "            color:  #f1f1f1;\n",
       "        }    #T_5b4bbd89_e9bf_11ea_ad84_507b9da5cd80row8_col1 {\n",
       "            background-color:  #f99355;\n",
       "            color:  #000000;\n",
       "        }    #T_5b4bbd89_e9bf_11ea_ad84_507b9da5cd80row8_col2 {\n",
       "            background-color:  #da362a;\n",
       "            color:  #f1f1f1;\n",
       "        }    #T_5b4bbd89_e9bf_11ea_ad84_507b9da5cd80row8_col3 {\n",
       "            background-color:  #e34933;\n",
       "            color:  #f1f1f1;\n",
       "        }    #T_5b4bbd89_e9bf_11ea_ad84_507b9da5cd80row8_col4 {\n",
       "            background-color:  #e0422f;\n",
       "            color:  #f1f1f1;\n",
       "        }    #T_5b4bbd89_e9bf_11ea_ad84_507b9da5cd80row8_col5 {\n",
       "            background-color:  #d22b27;\n",
       "            color:  #f1f1f1;\n",
       "        }    #T_5b4bbd89_e9bf_11ea_ad84_507b9da5cd80row8_col6 {\n",
       "            background-color:  #b91326;\n",
       "            color:  #f1f1f1;\n",
       "        }    #T_5b4bbd89_e9bf_11ea_ad84_507b9da5cd80row8_col7 {\n",
       "            background-color:  #e95538;\n",
       "            color:  #000000;\n",
       "        }    #T_5b4bbd89_e9bf_11ea_ad84_507b9da5cd80row8_col8 {\n",
       "            background-color:  #006837;\n",
       "            color:  #f1f1f1;\n",
       "        }    #T_5b4bbd89_e9bf_11ea_ad84_507b9da5cd80row8_col9 {\n",
       "            background-color:  #d83128;\n",
       "            color:  #f1f1f1;\n",
       "        }    #T_5b4bbd89_e9bf_11ea_ad84_507b9da5cd80row8_col10 {\n",
       "            background-color:  #f57547;\n",
       "            color:  #000000;\n",
       "        }    #T_5b4bbd89_e9bf_11ea_ad84_507b9da5cd80row8_col11 {\n",
       "            background-color:  #e34933;\n",
       "            color:  #f1f1f1;\n",
       "        }    #T_5b4bbd89_e9bf_11ea_ad84_507b9da5cd80row8_col12 {\n",
       "            background-color:  #f57245;\n",
       "            color:  #000000;\n",
       "        }    #T_5b4bbd89_e9bf_11ea_ad84_507b9da5cd80row8_col13 {\n",
       "            background-color:  #e44c34;\n",
       "            color:  #000000;\n",
       "        }    #T_5b4bbd89_e9bf_11ea_ad84_507b9da5cd80row8_col14 {\n",
       "            background-color:  #cbe982;\n",
       "            color:  #000000;\n",
       "        }    #T_5b4bbd89_e9bf_11ea_ad84_507b9da5cd80row8_col15 {\n",
       "            background-color:  #e34933;\n",
       "            color:  #f1f1f1;\n",
       "        }    #T_5b4bbd89_e9bf_11ea_ad84_507b9da5cd80row9_col0 {\n",
       "            background-color:  #bb1526;\n",
       "            color:  #f1f1f1;\n",
       "        }    #T_5b4bbd89_e9bf_11ea_ad84_507b9da5cd80row9_col1 {\n",
       "            background-color:  #fedc88;\n",
       "            color:  #000000;\n",
       "        }    #T_5b4bbd89_e9bf_11ea_ad84_507b9da5cd80row9_col2 {\n",
       "            background-color:  #dd3d2d;\n",
       "            color:  #f1f1f1;\n",
       "        }    #T_5b4bbd89_e9bf_11ea_ad84_507b9da5cd80row9_col3 {\n",
       "            background-color:  #e14430;\n",
       "            color:  #f1f1f1;\n",
       "        }    #T_5b4bbd89_e9bf_11ea_ad84_507b9da5cd80row9_col4 {\n",
       "            background-color:  #e24731;\n",
       "            color:  #f1f1f1;\n",
       "        }    #T_5b4bbd89_e9bf_11ea_ad84_507b9da5cd80row9_col5 {\n",
       "            background-color:  #e0422f;\n",
       "            color:  #f1f1f1;\n",
       "        }    #T_5b4bbd89_e9bf_11ea_ad84_507b9da5cd80row9_col6 {\n",
       "            background-color:  #b30d26;\n",
       "            color:  #f1f1f1;\n",
       "        }    #T_5b4bbd89_e9bf_11ea_ad84_507b9da5cd80row9_col7 {\n",
       "            background-color:  #f8864f;\n",
       "            color:  #000000;\n",
       "        }    #T_5b4bbd89_e9bf_11ea_ad84_507b9da5cd80row9_col8 {\n",
       "            background-color:  #cc2627;\n",
       "            color:  #f1f1f1;\n",
       "        }    #T_5b4bbd89_e9bf_11ea_ad84_507b9da5cd80row9_col9 {\n",
       "            background-color:  #006837;\n",
       "            color:  #f1f1f1;\n",
       "        }    #T_5b4bbd89_e9bf_11ea_ad84_507b9da5cd80row9_col10 {\n",
       "            background-color:  #fdaf62;\n",
       "            color:  #000000;\n",
       "        }    #T_5b4bbd89_e9bf_11ea_ad84_507b9da5cd80row9_col11 {\n",
       "            background-color:  #f98e52;\n",
       "            color:  #000000;\n",
       "        }    #T_5b4bbd89_e9bf_11ea_ad84_507b9da5cd80row9_col12 {\n",
       "            background-color:  #f88950;\n",
       "            color:  #000000;\n",
       "        }    #T_5b4bbd89_e9bf_11ea_ad84_507b9da5cd80row9_col13 {\n",
       "            background-color:  #ee613e;\n",
       "            color:  #000000;\n",
       "        }    #T_5b4bbd89_e9bf_11ea_ad84_507b9da5cd80row9_col14 {\n",
       "            background-color:  #d42d27;\n",
       "            color:  #f1f1f1;\n",
       "        }    #T_5b4bbd89_e9bf_11ea_ad84_507b9da5cd80row9_col15 {\n",
       "            background-color:  #de402e;\n",
       "            color:  #f1f1f1;\n",
       "        }    #T_5b4bbd89_e9bf_11ea_ad84_507b9da5cd80row10_col0 {\n",
       "            background-color:  #ca2427;\n",
       "            color:  #f1f1f1;\n",
       "        }    #T_5b4bbd89_e9bf_11ea_ad84_507b9da5cd80row10_col1 {\n",
       "            background-color:  #fffebe;\n",
       "            color:  #000000;\n",
       "        }    #T_5b4bbd89_e9bf_11ea_ad84_507b9da5cd80row10_col2 {\n",
       "            background-color:  #b30d26;\n",
       "            color:  #f1f1f1;\n",
       "        }    #T_5b4bbd89_e9bf_11ea_ad84_507b9da5cd80row10_col3 {\n",
       "            background-color:  #c62027;\n",
       "            color:  #f1f1f1;\n",
       "        }    #T_5b4bbd89_e9bf_11ea_ad84_507b9da5cd80row10_col4 {\n",
       "            background-color:  #ce2827;\n",
       "            color:  #f1f1f1;\n",
       "        }    #T_5b4bbd89_e9bf_11ea_ad84_507b9da5cd80row10_col5 {\n",
       "            background-color:  #fcaa5f;\n",
       "            color:  #000000;\n",
       "        }    #T_5b4bbd89_e9bf_11ea_ad84_507b9da5cd80row10_col6 {\n",
       "            background-color:  #d02927;\n",
       "            color:  #f1f1f1;\n",
       "        }    #T_5b4bbd89_e9bf_11ea_ad84_507b9da5cd80row10_col7 {\n",
       "            background-color:  #96d268;\n",
       "            color:  #000000;\n",
       "        }    #T_5b4bbd89_e9bf_11ea_ad84_507b9da5cd80row10_col8 {\n",
       "            background-color:  #e34933;\n",
       "            color:  #f1f1f1;\n",
       "        }    #T_5b4bbd89_e9bf_11ea_ad84_507b9da5cd80row10_col9 {\n",
       "            background-color:  #fa9656;\n",
       "            color:  #000000;\n",
       "        }    #T_5b4bbd89_e9bf_11ea_ad84_507b9da5cd80row10_col10 {\n",
       "            background-color:  #006837;\n",
       "            color:  #f1f1f1;\n",
       "        }    #T_5b4bbd89_e9bf_11ea_ad84_507b9da5cd80row10_col11 {\n",
       "            background-color:  #60ba62;\n",
       "            color:  #000000;\n",
       "        }    #T_5b4bbd89_e9bf_11ea_ad84_507b9da5cd80row10_col12 {\n",
       "            background-color:  #fee797;\n",
       "            color:  #000000;\n",
       "        }    #T_5b4bbd89_e9bf_11ea_ad84_507b9da5cd80row10_col13 {\n",
       "            background-color:  #fa9b58;\n",
       "            color:  #000000;\n",
       "        }    #T_5b4bbd89_e9bf_11ea_ad84_507b9da5cd80row10_col14 {\n",
       "            background-color:  #ee613e;\n",
       "            color:  #000000;\n",
       "        }    #T_5b4bbd89_e9bf_11ea_ad84_507b9da5cd80row10_col15 {\n",
       "            background-color:  #f99355;\n",
       "            color:  #000000;\n",
       "        }    #T_5b4bbd89_e9bf_11ea_ad84_507b9da5cd80row11_col0 {\n",
       "            background-color:  #e75337;\n",
       "            color:  #000000;\n",
       "        }    #T_5b4bbd89_e9bf_11ea_ad84_507b9da5cd80row11_col1 {\n",
       "            background-color:  #fdc776;\n",
       "            color:  #000000;\n",
       "        }    #T_5b4bbd89_e9bf_11ea_ad84_507b9da5cd80row11_col2 {\n",
       "            background-color:  #ce2827;\n",
       "            color:  #f1f1f1;\n",
       "        }    #T_5b4bbd89_e9bf_11ea_ad84_507b9da5cd80row11_col3 {\n",
       "            background-color:  #ce2827;\n",
       "            color:  #f1f1f1;\n",
       "        }    #T_5b4bbd89_e9bf_11ea_ad84_507b9da5cd80row11_col4 {\n",
       "            background-color:  #db382b;\n",
       "            color:  #f1f1f1;\n",
       "        }    #T_5b4bbd89_e9bf_11ea_ad84_507b9da5cd80row11_col5 {\n",
       "            background-color:  #f7844e;\n",
       "            color:  #000000;\n",
       "        }    #T_5b4bbd89_e9bf_11ea_ad84_507b9da5cd80row11_col6 {\n",
       "            background-color:  #ce2827;\n",
       "            color:  #f1f1f1;\n",
       "        }    #T_5b4bbd89_e9bf_11ea_ad84_507b9da5cd80row11_col7 {\n",
       "            background-color:  #bde379;\n",
       "            color:  #000000;\n",
       "        }    #T_5b4bbd89_e9bf_11ea_ad84_507b9da5cd80row11_col8 {\n",
       "            background-color:  #ce2827;\n",
       "            color:  #f1f1f1;\n",
       "        }    #T_5b4bbd89_e9bf_11ea_ad84_507b9da5cd80row11_col9 {\n",
       "            background-color:  #f67a49;\n",
       "            color:  #000000;\n",
       "        }    #T_5b4bbd89_e9bf_11ea_ad84_507b9da5cd80row11_col10 {\n",
       "            background-color:  #5db961;\n",
       "            color:  #000000;\n",
       "        }    #T_5b4bbd89_e9bf_11ea_ad84_507b9da5cd80row11_col11 {\n",
       "            background-color:  #006837;\n",
       "            color:  #f1f1f1;\n",
       "        }    #T_5b4bbd89_e9bf_11ea_ad84_507b9da5cd80row11_col12 {\n",
       "            background-color:  #fff5ae;\n",
       "            color:  #000000;\n",
       "        }    #T_5b4bbd89_e9bf_11ea_ad84_507b9da5cd80row11_col13 {\n",
       "            background-color:  #fa9857;\n",
       "            color:  #000000;\n",
       "        }    #T_5b4bbd89_e9bf_11ea_ad84_507b9da5cd80row11_col14 {\n",
       "            background-color:  #da362a;\n",
       "            color:  #f1f1f1;\n",
       "        }    #T_5b4bbd89_e9bf_11ea_ad84_507b9da5cd80row11_col15 {\n",
       "            background-color:  #f26841;\n",
       "            color:  #000000;\n",
       "        }    #T_5b4bbd89_e9bf_11ea_ad84_507b9da5cd80row12_col0 {\n",
       "            background-color:  #ec5c3b;\n",
       "            color:  #000000;\n",
       "        }    #T_5b4bbd89_e9bf_11ea_ad84_507b9da5cd80row12_col1 {\n",
       "            background-color:  #fca55d;\n",
       "            color:  #000000;\n",
       "        }    #T_5b4bbd89_e9bf_11ea_ad84_507b9da5cd80row12_col2 {\n",
       "            background-color:  #b10b26;\n",
       "            color:  #f1f1f1;\n",
       "        }    #T_5b4bbd89_e9bf_11ea_ad84_507b9da5cd80row12_col3 {\n",
       "            background-color:  #b71126;\n",
       "            color:  #f1f1f1;\n",
       "        }    #T_5b4bbd89_e9bf_11ea_ad84_507b9da5cd80row12_col4 {\n",
       "            background-color:  #d02927;\n",
       "            color:  #f1f1f1;\n",
       "        }    #T_5b4bbd89_e9bf_11ea_ad84_507b9da5cd80row12_col5 {\n",
       "            background-color:  #e44c34;\n",
       "            color:  #000000;\n",
       "        }    #T_5b4bbd89_e9bf_11ea_ad84_507b9da5cd80row12_col6 {\n",
       "            background-color:  #c21c27;\n",
       "            color:  #f1f1f1;\n",
       "        }    #T_5b4bbd89_e9bf_11ea_ad84_507b9da5cd80row12_col7 {\n",
       "            background-color:  #fed07e;\n",
       "            color:  #000000;\n",
       "        }    #T_5b4bbd89_e9bf_11ea_ad84_507b9da5cd80row12_col8 {\n",
       "            background-color:  #da362a;\n",
       "            color:  #f1f1f1;\n",
       "        }    #T_5b4bbd89_e9bf_11ea_ad84_507b9da5cd80row12_col9 {\n",
       "            background-color:  #ed5f3c;\n",
       "            color:  #000000;\n",
       "        }    #T_5b4bbd89_e9bf_11ea_ad84_507b9da5cd80row12_col10 {\n",
       "            background-color:  #fee18d;\n",
       "            color:  #000000;\n",
       "        }    #T_5b4bbd89_e9bf_11ea_ad84_507b9da5cd80row12_col11 {\n",
       "            background-color:  #feec9f;\n",
       "            color:  #000000;\n",
       "        }    #T_5b4bbd89_e9bf_11ea_ad84_507b9da5cd80row12_col12 {\n",
       "            background-color:  #006837;\n",
       "            color:  #f1f1f1;\n",
       "        }    #T_5b4bbd89_e9bf_11ea_ad84_507b9da5cd80row12_col13 {\n",
       "            background-color:  #ea5739;\n",
       "            color:  #000000;\n",
       "        }    #T_5b4bbd89_e9bf_11ea_ad84_507b9da5cd80row12_col14 {\n",
       "            background-color:  #dd3d2d;\n",
       "            color:  #f1f1f1;\n",
       "        }    #T_5b4bbd89_e9bf_11ea_ad84_507b9da5cd80row12_col15 {\n",
       "            background-color:  #dc3b2c;\n",
       "            color:  #f1f1f1;\n",
       "        }    #T_5b4bbd89_e9bf_11ea_ad84_507b9da5cd80row13_col0 {\n",
       "            background-color:  #a50026;\n",
       "            color:  #f1f1f1;\n",
       "        }    #T_5b4bbd89_e9bf_11ea_ad84_507b9da5cd80row13_col1 {\n",
       "            background-color:  #ea5739;\n",
       "            color:  #000000;\n",
       "        }    #T_5b4bbd89_e9bf_11ea_ad84_507b9da5cd80row13_col2 {\n",
       "            background-color:  #d22b27;\n",
       "            color:  #f1f1f1;\n",
       "        }    #T_5b4bbd89_e9bf_11ea_ad84_507b9da5cd80row13_col3 {\n",
       "            background-color:  #f67a49;\n",
       "            color:  #000000;\n",
       "        }    #T_5b4bbd89_e9bf_11ea_ad84_507b9da5cd80row13_col4 {\n",
       "            background-color:  #f57748;\n",
       "            color:  #000000;\n",
       "        }    #T_5b4bbd89_e9bf_11ea_ad84_507b9da5cd80row13_col5 {\n",
       "            background-color:  #c62027;\n",
       "            color:  #f1f1f1;\n",
       "        }    #T_5b4bbd89_e9bf_11ea_ad84_507b9da5cd80row13_col6 {\n",
       "            background-color:  #ad0826;\n",
       "            color:  #f1f1f1;\n",
       "        }    #T_5b4bbd89_e9bf_11ea_ad84_507b9da5cd80row13_col7 {\n",
       "            background-color:  #f67f4b;\n",
       "            color:  #000000;\n",
       "        }    #T_5b4bbd89_e9bf_11ea_ad84_507b9da5cd80row13_col8 {\n",
       "            background-color:  #ce2827;\n",
       "            color:  #f1f1f1;\n",
       "        }    #T_5b4bbd89_e9bf_11ea_ad84_507b9da5cd80row13_col9 {\n",
       "            background-color:  #e44c34;\n",
       "            color:  #000000;\n",
       "        }    #T_5b4bbd89_e9bf_11ea_ad84_507b9da5cd80row13_col10 {\n",
       "            background-color:  #fba05b;\n",
       "            color:  #000000;\n",
       "        }    #T_5b4bbd89_e9bf_11ea_ad84_507b9da5cd80row13_col11 {\n",
       "            background-color:  #f99355;\n",
       "            color:  #000000;\n",
       "        }    #T_5b4bbd89_e9bf_11ea_ad84_507b9da5cd80row13_col12 {\n",
       "            background-color:  #f46d43;\n",
       "            color:  #000000;\n",
       "        }    #T_5b4bbd89_e9bf_11ea_ad84_507b9da5cd80row13_col13 {\n",
       "            background-color:  #006837;\n",
       "            color:  #f1f1f1;\n",
       "        }    #T_5b4bbd89_e9bf_11ea_ad84_507b9da5cd80row13_col14 {\n",
       "            background-color:  #e14430;\n",
       "            color:  #f1f1f1;\n",
       "        }    #T_5b4bbd89_e9bf_11ea_ad84_507b9da5cd80row13_col15 {\n",
       "            background-color:  #c82227;\n",
       "            color:  #f1f1f1;\n",
       "        }    #T_5b4bbd89_e9bf_11ea_ad84_507b9da5cd80row14_col0 {\n",
       "            background-color:  #d93429;\n",
       "            color:  #f1f1f1;\n",
       "        }    #T_5b4bbd89_e9bf_11ea_ad84_507b9da5cd80row14_col1 {\n",
       "            background-color:  #fa9857;\n",
       "            color:  #000000;\n",
       "        }    #T_5b4bbd89_e9bf_11ea_ad84_507b9da5cd80row14_col2 {\n",
       "            background-color:  #db382b;\n",
       "            color:  #f1f1f1;\n",
       "        }    #T_5b4bbd89_e9bf_11ea_ad84_507b9da5cd80row14_col3 {\n",
       "            background-color:  #e0422f;\n",
       "            color:  #f1f1f1;\n",
       "        }    #T_5b4bbd89_e9bf_11ea_ad84_507b9da5cd80row14_col4 {\n",
       "            background-color:  #db382b;\n",
       "            color:  #f1f1f1;\n",
       "        }    #T_5b4bbd89_e9bf_11ea_ad84_507b9da5cd80row14_col5 {\n",
       "            background-color:  #d62f27;\n",
       "            color:  #f1f1f1;\n",
       "        }    #T_5b4bbd89_e9bf_11ea_ad84_507b9da5cd80row14_col6 {\n",
       "            background-color:  #b91326;\n",
       "            color:  #f1f1f1;\n",
       "        }    #T_5b4bbd89_e9bf_11ea_ad84_507b9da5cd80row14_col7 {\n",
       "            background-color:  #eb5a3a;\n",
       "            color:  #000000;\n",
       "        }    #T_5b4bbd89_e9bf_11ea_ad84_507b9da5cd80row14_col8 {\n",
       "            background-color:  #cfeb85;\n",
       "            color:  #000000;\n",
       "        }    #T_5b4bbd89_e9bf_11ea_ad84_507b9da5cd80row14_col9 {\n",
       "            background-color:  #d93429;\n",
       "            color:  #f1f1f1;\n",
       "        }    #T_5b4bbd89_e9bf_11ea_ad84_507b9da5cd80row14_col10 {\n",
       "            background-color:  #f7844e;\n",
       "            color:  #000000;\n",
       "        }    #T_5b4bbd89_e9bf_11ea_ad84_507b9da5cd80row14_col11 {\n",
       "            background-color:  #e65036;\n",
       "            color:  #000000;\n",
       "        }    #T_5b4bbd89_e9bf_11ea_ad84_507b9da5cd80row14_col12 {\n",
       "            background-color:  #f57245;\n",
       "            color:  #000000;\n",
       "        }    #T_5b4bbd89_e9bf_11ea_ad84_507b9da5cd80row14_col13 {\n",
       "            background-color:  #ef633f;\n",
       "            color:  #000000;\n",
       "        }    #T_5b4bbd89_e9bf_11ea_ad84_507b9da5cd80row14_col14 {\n",
       "            background-color:  #006837;\n",
       "            color:  #f1f1f1;\n",
       "        }    #T_5b4bbd89_e9bf_11ea_ad84_507b9da5cd80row14_col15 {\n",
       "            background-color:  #ea5739;\n",
       "            color:  #000000;\n",
       "        }    #T_5b4bbd89_e9bf_11ea_ad84_507b9da5cd80row15_col0 {\n",
       "            background-color:  #ee613e;\n",
       "            color:  #000000;\n",
       "        }    #T_5b4bbd89_e9bf_11ea_ad84_507b9da5cd80row15_col1 {\n",
       "            background-color:  #fecc7b;\n",
       "            color:  #000000;\n",
       "        }    #T_5b4bbd89_e9bf_11ea_ad84_507b9da5cd80row15_col2 {\n",
       "            background-color:  #d22b27;\n",
       "            color:  #f1f1f1;\n",
       "        }    #T_5b4bbd89_e9bf_11ea_ad84_507b9da5cd80row15_col3 {\n",
       "            background-color:  #f16640;\n",
       "            color:  #000000;\n",
       "        }    #T_5b4bbd89_e9bf_11ea_ad84_507b9da5cd80row15_col4 {\n",
       "            background-color:  #f47044;\n",
       "            color:  #000000;\n",
       "        }    #T_5b4bbd89_e9bf_11ea_ad84_507b9da5cd80row15_col5 {\n",
       "            background-color:  #e24731;\n",
       "            color:  #f1f1f1;\n",
       "        }    #T_5b4bbd89_e9bf_11ea_ad84_507b9da5cd80row15_col6 {\n",
       "            background-color:  #d02927;\n",
       "            color:  #f1f1f1;\n",
       "        }    #T_5b4bbd89_e9bf_11ea_ad84_507b9da5cd80row15_col7 {\n",
       "            background-color:  #f99153;\n",
       "            color:  #000000;\n",
       "        }    #T_5b4bbd89_e9bf_11ea_ad84_507b9da5cd80row15_col8 {\n",
       "            background-color:  #e0422f;\n",
       "            color:  #f1f1f1;\n",
       "        }    #T_5b4bbd89_e9bf_11ea_ad84_507b9da5cd80row15_col9 {\n",
       "            background-color:  #e24731;\n",
       "            color:  #f1f1f1;\n",
       "        }    #T_5b4bbd89_e9bf_11ea_ad84_507b9da5cd80row15_col10 {\n",
       "            background-color:  #fdb365;\n",
       "            color:  #000000;\n",
       "        }    #T_5b4bbd89_e9bf_11ea_ad84_507b9da5cd80row15_col11 {\n",
       "            background-color:  #f7814c;\n",
       "            color:  #000000;\n",
       "        }    #T_5b4bbd89_e9bf_11ea_ad84_507b9da5cd80row15_col12 {\n",
       "            background-color:  #f46d43;\n",
       "            color:  #000000;\n",
       "        }    #T_5b4bbd89_e9bf_11ea_ad84_507b9da5cd80row15_col13 {\n",
       "            background-color:  #dd3d2d;\n",
       "            color:  #f1f1f1;\n",
       "        }    #T_5b4bbd89_e9bf_11ea_ad84_507b9da5cd80row15_col14 {\n",
       "            background-color:  #e95538;\n",
       "            color:  #000000;\n",
       "        }    #T_5b4bbd89_e9bf_11ea_ad84_507b9da5cd80row15_col15 {\n",
       "            background-color:  #006837;\n",
       "            color:  #f1f1f1;\n",
       "        }</style><table id=\"T_5b4bbd89_e9bf_11ea_ad84_507b9da5cd80\" ><thead>    <tr>        <th class=\"blank level0\" ></th>        <th class=\"col_heading level0 col0\" >male</th>        <th class=\"col_heading level0 col1\" >age</th>        <th class=\"col_heading level0 col2\" >education</th>        <th class=\"col_heading level0 col3\" >currentSmoker</th>        <th class=\"col_heading level0 col4\" >cigsPerDay</th>        <th class=\"col_heading level0 col5\" >BPMeds</th>        <th class=\"col_heading level0 col6\" >prevalentStroke</th>        <th class=\"col_heading level0 col7\" >prevalentHyp</th>        <th class=\"col_heading level0 col8\" >diabetes</th>        <th class=\"col_heading level0 col9\" >totChol</th>        <th class=\"col_heading level0 col10\" >sysBP</th>        <th class=\"col_heading level0 col11\" >diaBP</th>        <th class=\"col_heading level0 col12\" >BMI</th>        <th class=\"col_heading level0 col13\" >heartRate</th>        <th class=\"col_heading level0 col14\" >glucose</th>        <th class=\"col_heading level0 col15\" >TenYearCHD</th>    </tr></thead><tbody>\n",
       "                <tr>\n",
       "                        <th id=\"T_5b4bbd89_e9bf_11ea_ad84_507b9da5cd80level0_row0\" class=\"row_heading level0 row0\" >male</th>\n",
       "                        <td id=\"T_5b4bbd89_e9bf_11ea_ad84_507b9da5cd80row0_col0\" class=\"data row0 col0\" >1.000000</td>\n",
       "                        <td id=\"T_5b4bbd89_e9bf_11ea_ad84_507b9da5cd80row0_col1\" class=\"data row0 col1\" >-0.023465</td>\n",
       "                        <td id=\"T_5b4bbd89_e9bf_11ea_ad84_507b9da5cd80row0_col2\" class=\"data row0 col2\" >0.014334</td>\n",
       "                        <td id=\"T_5b4bbd89_e9bf_11ea_ad84_507b9da5cd80row0_col3\" class=\"data row0 col3\" >0.198718</td>\n",
       "                        <td id=\"T_5b4bbd89_e9bf_11ea_ad84_507b9da5cd80row0_col4\" class=\"data row0 col4\" >0.322245</td>\n",
       "                        <td id=\"T_5b4bbd89_e9bf_11ea_ad84_507b9da5cd80row0_col5\" class=\"data row0 col5\" >-0.052357</td>\n",
       "                        <td id=\"T_5b4bbd89_e9bf_11ea_ad84_507b9da5cd80row0_col6\" class=\"data row0 col6\" >-0.001873</td>\n",
       "                        <td id=\"T_5b4bbd89_e9bf_11ea_ad84_507b9da5cd80row0_col7\" class=\"data row0 col7\" >0.007097</td>\n",
       "                        <td id=\"T_5b4bbd89_e9bf_11ea_ad84_507b9da5cd80row0_col8\" class=\"data row0 col8\" >0.017084</td>\n",
       "                        <td id=\"T_5b4bbd89_e9bf_11ea_ad84_507b9da5cd80row0_col9\" class=\"data row0 col9\" >-0.067387</td>\n",
       "                        <td id=\"T_5b4bbd89_e9bf_11ea_ad84_507b9da5cd80row0_col10\" class=\"data row0 col10\" >-0.032784</td>\n",
       "                        <td id=\"T_5b4bbd89_e9bf_11ea_ad84_507b9da5cd80row0_col11\" class=\"data row0 col11\" >0.059556</td>\n",
       "                        <td id=\"T_5b4bbd89_e9bf_11ea_ad84_507b9da5cd80row0_col12\" class=\"data row0 col12\" >0.079201</td>\n",
       "                        <td id=\"T_5b4bbd89_e9bf_11ea_ad84_507b9da5cd80row0_col13\" class=\"data row0 col13\" >-0.116664</td>\n",
       "                        <td id=\"T_5b4bbd89_e9bf_11ea_ad84_507b9da5cd80row0_col14\" class=\"data row0 col14\" >0.005198</td>\n",
       "                        <td id=\"T_5b4bbd89_e9bf_11ea_ad84_507b9da5cd80row0_col15\" class=\"data row0 col15\" >0.087330</td>\n",
       "            </tr>\n",
       "            <tr>\n",
       "                        <th id=\"T_5b4bbd89_e9bf_11ea_ad84_507b9da5cd80level0_row1\" class=\"row_heading level0 row1\" >age</th>\n",
       "                        <td id=\"T_5b4bbd89_e9bf_11ea_ad84_507b9da5cd80row1_col0\" class=\"data row1 col0\" >-0.023465</td>\n",
       "                        <td id=\"T_5b4bbd89_e9bf_11ea_ad84_507b9da5cd80row1_col1\" class=\"data row1 col1\" >1.000000</td>\n",
       "                        <td id=\"T_5b4bbd89_e9bf_11ea_ad84_507b9da5cd80row1_col2\" class=\"data row1 col2\" >-0.164350</td>\n",
       "                        <td id=\"T_5b4bbd89_e9bf_11ea_ad84_507b9da5cd80row1_col3\" class=\"data row1 col3\" >-0.210928</td>\n",
       "                        <td id=\"T_5b4bbd89_e9bf_11ea_ad84_507b9da5cd80row1_col4\" class=\"data row1 col4\" >-0.189897</td>\n",
       "                        <td id=\"T_5b4bbd89_e9bf_11ea_ad84_507b9da5cd80row1_col5\" class=\"data row1 col5\" >0.126259</td>\n",
       "                        <td id=\"T_5b4bbd89_e9bf_11ea_ad84_507b9da5cd80row1_col6\" class=\"data row1 col6\" >0.055223</td>\n",
       "                        <td id=\"T_5b4bbd89_e9bf_11ea_ad84_507b9da5cd80row1_col7\" class=\"data row1 col7\" >0.307012</td>\n",
       "                        <td id=\"T_5b4bbd89_e9bf_11ea_ad84_507b9da5cd80row1_col8\" class=\"data row1 col8\" >0.102245</td>\n",
       "                        <td id=\"T_5b4bbd89_e9bf_11ea_ad84_507b9da5cd80row1_col9\" class=\"data row1 col9\" >0.264677</td>\n",
       "                        <td id=\"T_5b4bbd89_e9bf_11ea_ad84_507b9da5cd80row1_col10\" class=\"data row1 col10\" >0.393367</td>\n",
       "                        <td id=\"T_5b4bbd89_e9bf_11ea_ad84_507b9da5cd80row1_col11\" class=\"data row1 col11\" >0.211388</td>\n",
       "                        <td id=\"T_5b4bbd89_e9bf_11ea_ad84_507b9da5cd80row1_col12\" class=\"data row1 col12\" >0.134636</td>\n",
       "                        <td id=\"T_5b4bbd89_e9bf_11ea_ad84_507b9da5cd80row1_col13\" class=\"data row1 col13\" >-0.010098</td>\n",
       "                        <td id=\"T_5b4bbd89_e9bf_11ea_ad84_507b9da5cd80row1_col14\" class=\"data row1 col14\" >0.115053</td>\n",
       "                        <td id=\"T_5b4bbd89_e9bf_11ea_ad84_507b9da5cd80row1_col15\" class=\"data row1 col15\" >0.226938</td>\n",
       "            </tr>\n",
       "            <tr>\n",
       "                        <th id=\"T_5b4bbd89_e9bf_11ea_ad84_507b9da5cd80level0_row2\" class=\"row_heading level0 row2\" >education</th>\n",
       "                        <td id=\"T_5b4bbd89_e9bf_11ea_ad84_507b9da5cd80row2_col0\" class=\"data row2 col0\" >0.014334</td>\n",
       "                        <td id=\"T_5b4bbd89_e9bf_11ea_ad84_507b9da5cd80row2_col1\" class=\"data row2 col1\" >-0.164350</td>\n",
       "                        <td id=\"T_5b4bbd89_e9bf_11ea_ad84_507b9da5cd80row2_col2\" class=\"data row2 col2\" >1.000000</td>\n",
       "                        <td id=\"T_5b4bbd89_e9bf_11ea_ad84_507b9da5cd80row2_col3\" class=\"data row2 col3\" >0.018101</td>\n",
       "                        <td id=\"T_5b4bbd89_e9bf_11ea_ad84_507b9da5cd80row2_col4\" class=\"data row2 col4\" >0.008128</td>\n",
       "                        <td id=\"T_5b4bbd89_e9bf_11ea_ad84_507b9da5cd80row2_col5\" class=\"data row2 col5\" >-0.010829</td>\n",
       "                        <td id=\"T_5b4bbd89_e9bf_11ea_ad84_507b9da5cd80row2_col6\" class=\"data row2 col6\" >-0.033220</td>\n",
       "                        <td id=\"T_5b4bbd89_e9bf_11ea_ad84_507b9da5cd80row2_col7\" class=\"data row2 col7\" >-0.082837</td>\n",
       "                        <td id=\"T_5b4bbd89_e9bf_11ea_ad84_507b9da5cd80row2_col8\" class=\"data row2 col8\" >-0.036670</td>\n",
       "                        <td id=\"T_5b4bbd89_e9bf_11ea_ad84_507b9da5cd80row2_col9\" class=\"data row2 col9\" >-0.022499</td>\n",
       "                        <td id=\"T_5b4bbd89_e9bf_11ea_ad84_507b9da5cd80row2_col10\" class=\"data row2 col10\" >-0.131489</td>\n",
       "                        <td id=\"T_5b4bbd89_e9bf_11ea_ad84_507b9da5cd80row2_col11\" class=\"data row2 col11\" >-0.066899</td>\n",
       "                        <td id=\"T_5b4bbd89_e9bf_11ea_ad84_507b9da5cd80row2_col12\" class=\"data row2 col12\" >-0.136196</td>\n",
       "                        <td id=\"T_5b4bbd89_e9bf_11ea_ad84_507b9da5cd80row2_col13\" class=\"data row2 col13\" >-0.055622</td>\n",
       "                        <td id=\"T_5b4bbd89_e9bf_11ea_ad84_507b9da5cd80row2_col14\" class=\"data row2 col14\" >-0.032204</td>\n",
       "                        <td id=\"T_5b4bbd89_e9bf_11ea_ad84_507b9da5cd80row2_col15\" class=\"data row2 col15\" >-0.055297</td>\n",
       "            </tr>\n",
       "            <tr>\n",
       "                        <th id=\"T_5b4bbd89_e9bf_11ea_ad84_507b9da5cd80level0_row3\" class=\"row_heading level0 row3\" >currentSmoker</th>\n",
       "                        <td id=\"T_5b4bbd89_e9bf_11ea_ad84_507b9da5cd80row3_col0\" class=\"data row3 col0\" >0.198718</td>\n",
       "                        <td id=\"T_5b4bbd89_e9bf_11ea_ad84_507b9da5cd80row3_col1\" class=\"data row3 col1\" >-0.210928</td>\n",
       "                        <td id=\"T_5b4bbd89_e9bf_11ea_ad84_507b9da5cd80row3_col2\" class=\"data row3 col2\" >0.018101</td>\n",
       "                        <td id=\"T_5b4bbd89_e9bf_11ea_ad84_507b9da5cd80row3_col3\" class=\"data row3 col3\" >1.000000</td>\n",
       "                        <td id=\"T_5b4bbd89_e9bf_11ea_ad84_507b9da5cd80row3_col4\" class=\"data row3 col4\" >0.770311</td>\n",
       "                        <td id=\"T_5b4bbd89_e9bf_11ea_ad84_507b9da5cd80row3_col5\" class=\"data row3 col5\" >-0.047983</td>\n",
       "                        <td id=\"T_5b4bbd89_e9bf_11ea_ad84_507b9da5cd80row3_col6\" class=\"data row3 col6\" >-0.030947</td>\n",
       "                        <td id=\"T_5b4bbd89_e9bf_11ea_ad84_507b9da5cd80row3_col7\" class=\"data row3 col7\" >-0.103623</td>\n",
       "                        <td id=\"T_5b4bbd89_e9bf_11ea_ad84_507b9da5cd80row3_col8\" class=\"data row3 col8\" >-0.038017</td>\n",
       "                        <td id=\"T_5b4bbd89_e9bf_11ea_ad84_507b9da5cd80row3_col9\" class=\"data row3 col9\" >-0.047553</td>\n",
       "                        <td id=\"T_5b4bbd89_e9bf_11ea_ad84_507b9da5cd80row3_col10\" class=\"data row3 col10\" >-0.128070</td>\n",
       "                        <td id=\"T_5b4bbd89_e9bf_11ea_ad84_507b9da5cd80row3_col11\" class=\"data row3 col11\" >-0.107152</td>\n",
       "                        <td id=\"T_5b4bbd89_e9bf_11ea_ad84_507b9da5cd80row3_col12\" class=\"data row3 col12\" >-0.164436</td>\n",
       "                        <td id=\"T_5b4bbd89_e9bf_11ea_ad84_507b9da5cd80row3_col13\" class=\"data row3 col13\" >0.056904</td>\n",
       "                        <td id=\"T_5b4bbd89_e9bf_11ea_ad84_507b9da5cd80row3_col14\" class=\"data row3 col14\" >-0.052289</td>\n",
       "                        <td id=\"T_5b4bbd89_e9bf_11ea_ad84_507b9da5cd80row3_col15\" class=\"data row3 col15\" >0.019066</td>\n",
       "            </tr>\n",
       "            <tr>\n",
       "                        <th id=\"T_5b4bbd89_e9bf_11ea_ad84_507b9da5cd80level0_row4\" class=\"row_heading level0 row4\" >cigsPerDay</th>\n",
       "                        <td id=\"T_5b4bbd89_e9bf_11ea_ad84_507b9da5cd80row4_col0\" class=\"data row4 col0\" >0.322245</td>\n",
       "                        <td id=\"T_5b4bbd89_e9bf_11ea_ad84_507b9da5cd80row4_col1\" class=\"data row4 col1\" >-0.189897</td>\n",
       "                        <td id=\"T_5b4bbd89_e9bf_11ea_ad84_507b9da5cd80row4_col2\" class=\"data row4 col2\" >0.008128</td>\n",
       "                        <td id=\"T_5b4bbd89_e9bf_11ea_ad84_507b9da5cd80row4_col3\" class=\"data row4 col3\" >0.770311</td>\n",
       "                        <td id=\"T_5b4bbd89_e9bf_11ea_ad84_507b9da5cd80row4_col4\" class=\"data row4 col4\" >1.000000</td>\n",
       "                        <td id=\"T_5b4bbd89_e9bf_11ea_ad84_507b9da5cd80row4_col5\" class=\"data row4 col5\" >-0.046185</td>\n",
       "                        <td id=\"T_5b4bbd89_e9bf_11ea_ad84_507b9da5cd80row4_col6\" class=\"data row4 col6\" >-0.031819</td>\n",
       "                        <td id=\"T_5b4bbd89_e9bf_11ea_ad84_507b9da5cd80row4_col7\" class=\"data row4 col7\" >-0.067144</td>\n",
       "                        <td id=\"T_5b4bbd89_e9bf_11ea_ad84_507b9da5cd80row4_col8\" class=\"data row4 col8\" >-0.033259</td>\n",
       "                        <td id=\"T_5b4bbd89_e9bf_11ea_ad84_507b9da5cd80row4_col9\" class=\"data row4 col9\" >-0.025172</td>\n",
       "                        <td id=\"T_5b4bbd89_e9bf_11ea_ad84_507b9da5cd80row4_col10\" class=\"data row4 col10\" >-0.088447</td>\n",
       "                        <td id=\"T_5b4bbd89_e9bf_11ea_ad84_507b9da5cd80row4_col11\" class=\"data row4 col11\" >-0.053803</td>\n",
       "                        <td id=\"T_5b4bbd89_e9bf_11ea_ad84_507b9da5cd80row4_col12\" class=\"data row4 col12\" >-0.087476</td>\n",
       "                        <td id=\"T_5b4bbd89_e9bf_11ea_ad84_507b9da5cd80row4_col13\" class=\"data row4 col13\" >0.070081</td>\n",
       "                        <td id=\"T_5b4bbd89_e9bf_11ea_ad84_507b9da5cd80row4_col14\" class=\"data row4 col14\" >-0.052395</td>\n",
       "                        <td id=\"T_5b4bbd89_e9bf_11ea_ad84_507b9da5cd80row4_col15\" class=\"data row4 col15\" >0.054795</td>\n",
       "            </tr>\n",
       "            <tr>\n",
       "                        <th id=\"T_5b4bbd89_e9bf_11ea_ad84_507b9da5cd80level0_row5\" class=\"row_heading level0 row5\" >BPMeds</th>\n",
       "                        <td id=\"T_5b4bbd89_e9bf_11ea_ad84_507b9da5cd80row5_col0\" class=\"data row5 col0\" >-0.052357</td>\n",
       "                        <td id=\"T_5b4bbd89_e9bf_11ea_ad84_507b9da5cd80row5_col1\" class=\"data row5 col1\" >0.126259</td>\n",
       "                        <td id=\"T_5b4bbd89_e9bf_11ea_ad84_507b9da5cd80row5_col2\" class=\"data row5 col2\" >-0.010829</td>\n",
       "                        <td id=\"T_5b4bbd89_e9bf_11ea_ad84_507b9da5cd80row5_col3\" class=\"data row5 col3\" >-0.047983</td>\n",
       "                        <td id=\"T_5b4bbd89_e9bf_11ea_ad84_507b9da5cd80row5_col4\" class=\"data row5 col4\" >-0.046185</td>\n",
       "                        <td id=\"T_5b4bbd89_e9bf_11ea_ad84_507b9da5cd80row5_col5\" class=\"data row5 col5\" >1.000000</td>\n",
       "                        <td id=\"T_5b4bbd89_e9bf_11ea_ad84_507b9da5cd80row5_col6\" class=\"data row5 col6\" >0.118731</td>\n",
       "                        <td id=\"T_5b4bbd89_e9bf_11ea_ad84_507b9da5cd80row5_col7\" class=\"data row5 col7\" >0.261767</td>\n",
       "                        <td id=\"T_5b4bbd89_e9bf_11ea_ad84_507b9da5cd80row5_col8\" class=\"data row5 col8\" >0.044876</td>\n",
       "                        <td id=\"T_5b4bbd89_e9bf_11ea_ad84_507b9da5cd80row5_col9\" class=\"data row5 col9\" >0.083859</td>\n",
       "                        <td id=\"T_5b4bbd89_e9bf_11ea_ad84_507b9da5cd80row5_col10\" class=\"data row5 col10\" >0.256784</td>\n",
       "                        <td id=\"T_5b4bbd89_e9bf_11ea_ad84_507b9da5cd80row5_col11\" class=\"data row5 col11\" >0.195663</td>\n",
       "                        <td id=\"T_5b4bbd89_e9bf_11ea_ad84_507b9da5cd80row5_col12\" class=\"data row5 col12\" >0.101090</td>\n",
       "                        <td id=\"T_5b4bbd89_e9bf_11ea_ad84_507b9da5cd80row5_col13\" class=\"data row5 col13\" >0.017837</td>\n",
       "                        <td id=\"T_5b4bbd89_e9bf_11ea_ad84_507b9da5cd80row5_col14\" class=\"data row5 col14\" >0.050859</td>\n",
       "                        <td id=\"T_5b4bbd89_e9bf_11ea_ad84_507b9da5cd80row5_col15\" class=\"data row5 col15\" >0.091652</td>\n",
       "            </tr>\n",
       "            <tr>\n",
       "                        <th id=\"T_5b4bbd89_e9bf_11ea_ad84_507b9da5cd80level0_row6\" class=\"row_heading level0 row6\" >prevalentStroke</th>\n",
       "                        <td id=\"T_5b4bbd89_e9bf_11ea_ad84_507b9da5cd80row6_col0\" class=\"data row6 col0\" >-0.001873</td>\n",
       "                        <td id=\"T_5b4bbd89_e9bf_11ea_ad84_507b9da5cd80row6_col1\" class=\"data row6 col1\" >0.055223</td>\n",
       "                        <td id=\"T_5b4bbd89_e9bf_11ea_ad84_507b9da5cd80row6_col2\" class=\"data row6 col2\" >-0.033220</td>\n",
       "                        <td id=\"T_5b4bbd89_e9bf_11ea_ad84_507b9da5cd80row6_col3\" class=\"data row6 col3\" >-0.030947</td>\n",
       "                        <td id=\"T_5b4bbd89_e9bf_11ea_ad84_507b9da5cd80row6_col4\" class=\"data row6 col4\" >-0.031819</td>\n",
       "                        <td id=\"T_5b4bbd89_e9bf_11ea_ad84_507b9da5cd80row6_col5\" class=\"data row6 col5\" >0.118731</td>\n",
       "                        <td id=\"T_5b4bbd89_e9bf_11ea_ad84_507b9da5cd80row6_col6\" class=\"data row6 col6\" >1.000000</td>\n",
       "                        <td id=\"T_5b4bbd89_e9bf_11ea_ad84_507b9da5cd80row6_col7\" class=\"data row6 col7\" >0.073443</td>\n",
       "                        <td id=\"T_5b4bbd89_e9bf_11ea_ad84_507b9da5cd80row6_col8\" class=\"data row6 col8\" >0.007810</td>\n",
       "                        <td id=\"T_5b4bbd89_e9bf_11ea_ad84_507b9da5cd80row6_col9\" class=\"data row6 col9\" >-0.003560</td>\n",
       "                        <td id=\"T_5b4bbd89_e9bf_11ea_ad84_507b9da5cd80row6_col10\" class=\"data row6 col10\" >0.058077</td>\n",
       "                        <td id=\"T_5b4bbd89_e9bf_11ea_ad84_507b9da5cd80row6_col11\" class=\"data row6 col11\" >0.052525</td>\n",
       "                        <td id=\"T_5b4bbd89_e9bf_11ea_ad84_507b9da5cd80row6_col12\" class=\"data row6 col12\" >0.029819</td>\n",
       "                        <td id=\"T_5b4bbd89_e9bf_11ea_ad84_507b9da5cd80row6_col13\" class=\"data row6 col13\" >-0.013780</td>\n",
       "                        <td id=\"T_5b4bbd89_e9bf_11ea_ad84_507b9da5cd80row6_col14\" class=\"data row6 col14\" >0.010053</td>\n",
       "                        <td id=\"T_5b4bbd89_e9bf_11ea_ad84_507b9da5cd80row6_col15\" class=\"data row6 col15\" >0.057077</td>\n",
       "            </tr>\n",
       "            <tr>\n",
       "                        <th id=\"T_5b4bbd89_e9bf_11ea_ad84_507b9da5cd80level0_row7\" class=\"row_heading level0 row7\" >prevalentHyp</th>\n",
       "                        <td id=\"T_5b4bbd89_e9bf_11ea_ad84_507b9da5cd80row7_col0\" class=\"data row7 col0\" >0.007097</td>\n",
       "                        <td id=\"T_5b4bbd89_e9bf_11ea_ad84_507b9da5cd80row7_col1\" class=\"data row7 col1\" >0.307012</td>\n",
       "                        <td id=\"T_5b4bbd89_e9bf_11ea_ad84_507b9da5cd80row7_col2\" class=\"data row7 col2\" >-0.082837</td>\n",
       "                        <td id=\"T_5b4bbd89_e9bf_11ea_ad84_507b9da5cd80row7_col3\" class=\"data row7 col3\" >-0.103623</td>\n",
       "                        <td id=\"T_5b4bbd89_e9bf_11ea_ad84_507b9da5cd80row7_col4\" class=\"data row7 col4\" >-0.067144</td>\n",
       "                        <td id=\"T_5b4bbd89_e9bf_11ea_ad84_507b9da5cd80row7_col5\" class=\"data row7 col5\" >0.261767</td>\n",
       "                        <td id=\"T_5b4bbd89_e9bf_11ea_ad84_507b9da5cd80row7_col6\" class=\"data row7 col6\" >0.073443</td>\n",
       "                        <td id=\"T_5b4bbd89_e9bf_11ea_ad84_507b9da5cd80row7_col7\" class=\"data row7 col7\" >1.000000</td>\n",
       "                        <td id=\"T_5b4bbd89_e9bf_11ea_ad84_507b9da5cd80row7_col8\" class=\"data row7 col8\" >0.076812</td>\n",
       "                        <td id=\"T_5b4bbd89_e9bf_11ea_ad84_507b9da5cd80row7_col9\" class=\"data row7 col9\" >0.163495</td>\n",
       "                        <td id=\"T_5b4bbd89_e9bf_11ea_ad84_507b9da5cd80row7_col10\" class=\"data row7 col10\" >0.695228</td>\n",
       "                        <td id=\"T_5b4bbd89_e9bf_11ea_ad84_507b9da5cd80row7_col11\" class=\"data row7 col11\" >0.617946</td>\n",
       "                        <td id=\"T_5b4bbd89_e9bf_11ea_ad84_507b9da5cd80row7_col12\" class=\"data row7 col12\" >0.301848</td>\n",
       "                        <td id=\"T_5b4bbd89_e9bf_11ea_ad84_507b9da5cd80row7_col13\" class=\"data row7 col13\" >0.150363</td>\n",
       "                        <td id=\"T_5b4bbd89_e9bf_11ea_ad84_507b9da5cd80row7_col14\" class=\"data row7 col14\" >0.084685</td>\n",
       "                        <td id=\"T_5b4bbd89_e9bf_11ea_ad84_507b9da5cd80row7_col15\" class=\"data row7 col15\" >0.178108</td>\n",
       "            </tr>\n",
       "            <tr>\n",
       "                        <th id=\"T_5b4bbd89_e9bf_11ea_ad84_507b9da5cd80level0_row8\" class=\"row_heading level0 row8\" >diabetes</th>\n",
       "                        <td id=\"T_5b4bbd89_e9bf_11ea_ad84_507b9da5cd80row8_col0\" class=\"data row8 col0\" >0.017084</td>\n",
       "                        <td id=\"T_5b4bbd89_e9bf_11ea_ad84_507b9da5cd80row8_col1\" class=\"data row8 col1\" >0.102245</td>\n",
       "                        <td id=\"T_5b4bbd89_e9bf_11ea_ad84_507b9da5cd80row8_col2\" class=\"data row8 col2\" >-0.036670</td>\n",
       "                        <td id=\"T_5b4bbd89_e9bf_11ea_ad84_507b9da5cd80row8_col3\" class=\"data row8 col3\" >-0.038017</td>\n",
       "                        <td id=\"T_5b4bbd89_e9bf_11ea_ad84_507b9da5cd80row8_col4\" class=\"data row8 col4\" >-0.033259</td>\n",
       "                        <td id=\"T_5b4bbd89_e9bf_11ea_ad84_507b9da5cd80row8_col5\" class=\"data row8 col5\" >0.044876</td>\n",
       "                        <td id=\"T_5b4bbd89_e9bf_11ea_ad84_507b9da5cd80row8_col6\" class=\"data row8 col6\" >0.007810</td>\n",
       "                        <td id=\"T_5b4bbd89_e9bf_11ea_ad84_507b9da5cd80row8_col7\" class=\"data row8 col7\" >0.076812</td>\n",
       "                        <td id=\"T_5b4bbd89_e9bf_11ea_ad84_507b9da5cd80row8_col8\" class=\"data row8 col8\" >1.000000</td>\n",
       "                        <td id=\"T_5b4bbd89_e9bf_11ea_ad84_507b9da5cd80row8_col9\" class=\"data row8 col9\" >0.044855</td>\n",
       "                        <td id=\"T_5b4bbd89_e9bf_11ea_ad84_507b9da5cd80row8_col10\" class=\"data row8 col10\" >0.108454</td>\n",
       "                        <td id=\"T_5b4bbd89_e9bf_11ea_ad84_507b9da5cd80row8_col11\" class=\"data row8 col11\" >0.050995</td>\n",
       "                        <td id=\"T_5b4bbd89_e9bf_11ea_ad84_507b9da5cd80row8_col12\" class=\"data row8 col12\" >0.079125</td>\n",
       "                        <td id=\"T_5b4bbd89_e9bf_11ea_ad84_507b9da5cd80row8_col13\" class=\"data row8 col13\" >0.048337</td>\n",
       "                        <td id=\"T_5b4bbd89_e9bf_11ea_ad84_507b9da5cd80row8_col14\" class=\"data row8 col14\" >0.606484</td>\n",
       "                        <td id=\"T_5b4bbd89_e9bf_11ea_ad84_507b9da5cd80row8_col15\" class=\"data row8 col15\" >0.096801</td>\n",
       "            </tr>\n",
       "            <tr>\n",
       "                        <th id=\"T_5b4bbd89_e9bf_11ea_ad84_507b9da5cd80level0_row9\" class=\"row_heading level0 row9\" >totChol</th>\n",
       "                        <td id=\"T_5b4bbd89_e9bf_11ea_ad84_507b9da5cd80row9_col0\" class=\"data row9 col0\" >-0.067387</td>\n",
       "                        <td id=\"T_5b4bbd89_e9bf_11ea_ad84_507b9da5cd80row9_col1\" class=\"data row9 col1\" >0.264677</td>\n",
       "                        <td id=\"T_5b4bbd89_e9bf_11ea_ad84_507b9da5cd80row9_col2\" class=\"data row9 col2\" >-0.022499</td>\n",
       "                        <td id=\"T_5b4bbd89_e9bf_11ea_ad84_507b9da5cd80row9_col3\" class=\"data row9 col3\" >-0.047553</td>\n",
       "                        <td id=\"T_5b4bbd89_e9bf_11ea_ad84_507b9da5cd80row9_col4\" class=\"data row9 col4\" >-0.025172</td>\n",
       "                        <td id=\"T_5b4bbd89_e9bf_11ea_ad84_507b9da5cd80row9_col5\" class=\"data row9 col5\" >0.083859</td>\n",
       "                        <td id=\"T_5b4bbd89_e9bf_11ea_ad84_507b9da5cd80row9_col6\" class=\"data row9 col6\" >-0.003560</td>\n",
       "                        <td id=\"T_5b4bbd89_e9bf_11ea_ad84_507b9da5cd80row9_col7\" class=\"data row9 col7\" >0.163495</td>\n",
       "                        <td id=\"T_5b4bbd89_e9bf_11ea_ad84_507b9da5cd80row9_col8\" class=\"data row9 col8\" >0.044855</td>\n",
       "                        <td id=\"T_5b4bbd89_e9bf_11ea_ad84_507b9da5cd80row9_col9\" class=\"data row9 col9\" >1.000000</td>\n",
       "                        <td id=\"T_5b4bbd89_e9bf_11ea_ad84_507b9da5cd80row9_col10\" class=\"data row9 col10\" >0.212143</td>\n",
       "                        <td id=\"T_5b4bbd89_e9bf_11ea_ad84_507b9da5cd80row9_col11\" class=\"data row9 col11\" >0.169918</td>\n",
       "                        <td id=\"T_5b4bbd89_e9bf_11ea_ad84_507b9da5cd80row9_col12\" class=\"data row9 col12\" >0.121925</td>\n",
       "                        <td id=\"T_5b4bbd89_e9bf_11ea_ad84_507b9da5cd80row9_col13\" class=\"data row9 col13\" >0.087894</td>\n",
       "                        <td id=\"T_5b4bbd89_e9bf_11ea_ad84_507b9da5cd80row9_col14\" class=\"data row9 col14\" >0.047651</td>\n",
       "                        <td id=\"T_5b4bbd89_e9bf_11ea_ad84_507b9da5cd80row9_col15\" class=\"data row9 col15\" >0.078813</td>\n",
       "            </tr>\n",
       "            <tr>\n",
       "                        <th id=\"T_5b4bbd89_e9bf_11ea_ad84_507b9da5cd80level0_row10\" class=\"row_heading level0 row10\" >sysBP</th>\n",
       "                        <td id=\"T_5b4bbd89_e9bf_11ea_ad84_507b9da5cd80row10_col0\" class=\"data row10 col0\" >-0.032784</td>\n",
       "                        <td id=\"T_5b4bbd89_e9bf_11ea_ad84_507b9da5cd80row10_col1\" class=\"data row10 col1\" >0.393367</td>\n",
       "                        <td id=\"T_5b4bbd89_e9bf_11ea_ad84_507b9da5cd80row10_col2\" class=\"data row10 col2\" >-0.131489</td>\n",
       "                        <td id=\"T_5b4bbd89_e9bf_11ea_ad84_507b9da5cd80row10_col3\" class=\"data row10 col3\" >-0.128070</td>\n",
       "                        <td id=\"T_5b4bbd89_e9bf_11ea_ad84_507b9da5cd80row10_col4\" class=\"data row10 col4\" >-0.088447</td>\n",
       "                        <td id=\"T_5b4bbd89_e9bf_11ea_ad84_507b9da5cd80row10_col5\" class=\"data row10 col5\" >0.256784</td>\n",
       "                        <td id=\"T_5b4bbd89_e9bf_11ea_ad84_507b9da5cd80row10_col6\" class=\"data row10 col6\" >0.058077</td>\n",
       "                        <td id=\"T_5b4bbd89_e9bf_11ea_ad84_507b9da5cd80row10_col7\" class=\"data row10 col7\" >0.695228</td>\n",
       "                        <td id=\"T_5b4bbd89_e9bf_11ea_ad84_507b9da5cd80row10_col8\" class=\"data row10 col8\" >0.108454</td>\n",
       "                        <td id=\"T_5b4bbd89_e9bf_11ea_ad84_507b9da5cd80row10_col9\" class=\"data row10 col9\" >0.212143</td>\n",
       "                        <td id=\"T_5b4bbd89_e9bf_11ea_ad84_507b9da5cd80row10_col10\" class=\"data row10 col10\" >1.000000</td>\n",
       "                        <td id=\"T_5b4bbd89_e9bf_11ea_ad84_507b9da5cd80row10_col11\" class=\"data row10 col11\" >0.785138</td>\n",
       "                        <td id=\"T_5b4bbd89_e9bf_11ea_ad84_507b9da5cd80row10_col12\" class=\"data row10 col12\" >0.326943</td>\n",
       "                        <td id=\"T_5b4bbd89_e9bf_11ea_ad84_507b9da5cd80row10_col13\" class=\"data row10 col13\" >0.185004</td>\n",
       "                        <td id=\"T_5b4bbd89_e9bf_11ea_ad84_507b9da5cd80row10_col14\" class=\"data row10 col14\" >0.137358</td>\n",
       "                        <td id=\"T_5b4bbd89_e9bf_11ea_ad84_507b9da5cd80row10_col15\" class=\"data row10 col15\" >0.217992</td>\n",
       "            </tr>\n",
       "            <tr>\n",
       "                        <th id=\"T_5b4bbd89_e9bf_11ea_ad84_507b9da5cd80level0_row11\" class=\"row_heading level0 row11\" >diaBP</th>\n",
       "                        <td id=\"T_5b4bbd89_e9bf_11ea_ad84_507b9da5cd80row11_col0\" class=\"data row11 col0\" >0.059556</td>\n",
       "                        <td id=\"T_5b4bbd89_e9bf_11ea_ad84_507b9da5cd80row11_col1\" class=\"data row11 col1\" >0.211388</td>\n",
       "                        <td id=\"T_5b4bbd89_e9bf_11ea_ad84_507b9da5cd80row11_col2\" class=\"data row11 col2\" >-0.066899</td>\n",
       "                        <td id=\"T_5b4bbd89_e9bf_11ea_ad84_507b9da5cd80row11_col3\" class=\"data row11 col3\" >-0.107152</td>\n",
       "                        <td id=\"T_5b4bbd89_e9bf_11ea_ad84_507b9da5cd80row11_col4\" class=\"data row11 col4\" >-0.053803</td>\n",
       "                        <td id=\"T_5b4bbd89_e9bf_11ea_ad84_507b9da5cd80row11_col5\" class=\"data row11 col5\" >0.195663</td>\n",
       "                        <td id=\"T_5b4bbd89_e9bf_11ea_ad84_507b9da5cd80row11_col6\" class=\"data row11 col6\" >0.052525</td>\n",
       "                        <td id=\"T_5b4bbd89_e9bf_11ea_ad84_507b9da5cd80row11_col7\" class=\"data row11 col7\" >0.617946</td>\n",
       "                        <td id=\"T_5b4bbd89_e9bf_11ea_ad84_507b9da5cd80row11_col8\" class=\"data row11 col8\" >0.050995</td>\n",
       "                        <td id=\"T_5b4bbd89_e9bf_11ea_ad84_507b9da5cd80row11_col9\" class=\"data row11 col9\" >0.169918</td>\n",
       "                        <td id=\"T_5b4bbd89_e9bf_11ea_ad84_507b9da5cd80row11_col10\" class=\"data row11 col10\" >0.785138</td>\n",
       "                        <td id=\"T_5b4bbd89_e9bf_11ea_ad84_507b9da5cd80row11_col11\" class=\"data row11 col11\" >1.000000</td>\n",
       "                        <td id=\"T_5b4bbd89_e9bf_11ea_ad84_507b9da5cd80row11_col12\" class=\"data row11 col12\" >0.380704</td>\n",
       "                        <td id=\"T_5b4bbd89_e9bf_11ea_ad84_507b9da5cd80row11_col13\" class=\"data row11 col13\" >0.182445</td>\n",
       "                        <td id=\"T_5b4bbd89_e9bf_11ea_ad84_507b9da5cd80row11_col14\" class=\"data row11 col14\" >0.063142</td>\n",
       "                        <td id=\"T_5b4bbd89_e9bf_11ea_ad84_507b9da5cd80row11_col15\" class=\"data row11 col15\" >0.148468</td>\n",
       "            </tr>\n",
       "            <tr>\n",
       "                        <th id=\"T_5b4bbd89_e9bf_11ea_ad84_507b9da5cd80level0_row12\" class=\"row_heading level0 row12\" >BMI</th>\n",
       "                        <td id=\"T_5b4bbd89_e9bf_11ea_ad84_507b9da5cd80row12_col0\" class=\"data row12 col0\" >0.079201</td>\n",
       "                        <td id=\"T_5b4bbd89_e9bf_11ea_ad84_507b9da5cd80row12_col1\" class=\"data row12 col1\" >0.134636</td>\n",
       "                        <td id=\"T_5b4bbd89_e9bf_11ea_ad84_507b9da5cd80row12_col2\" class=\"data row12 col2\" >-0.136196</td>\n",
       "                        <td id=\"T_5b4bbd89_e9bf_11ea_ad84_507b9da5cd80row12_col3\" class=\"data row12 col3\" >-0.164436</td>\n",
       "                        <td id=\"T_5b4bbd89_e9bf_11ea_ad84_507b9da5cd80row12_col4\" class=\"data row12 col4\" >-0.087476</td>\n",
       "                        <td id=\"T_5b4bbd89_e9bf_11ea_ad84_507b9da5cd80row12_col5\" class=\"data row12 col5\" >0.101090</td>\n",
       "                        <td id=\"T_5b4bbd89_e9bf_11ea_ad84_507b9da5cd80row12_col6\" class=\"data row12 col6\" >0.029819</td>\n",
       "                        <td id=\"T_5b4bbd89_e9bf_11ea_ad84_507b9da5cd80row12_col7\" class=\"data row12 col7\" >0.301848</td>\n",
       "                        <td id=\"T_5b4bbd89_e9bf_11ea_ad84_507b9da5cd80row12_col8\" class=\"data row12 col8\" >0.079125</td>\n",
       "                        <td id=\"T_5b4bbd89_e9bf_11ea_ad84_507b9da5cd80row12_col9\" class=\"data row12 col9\" >0.121925</td>\n",
       "                        <td id=\"T_5b4bbd89_e9bf_11ea_ad84_507b9da5cd80row12_col10\" class=\"data row12 col10\" >0.326943</td>\n",
       "                        <td id=\"T_5b4bbd89_e9bf_11ea_ad84_507b9da5cd80row12_col11\" class=\"data row12 col11\" >0.380704</td>\n",
       "                        <td id=\"T_5b4bbd89_e9bf_11ea_ad84_507b9da5cd80row12_col12\" class=\"data row12 col12\" >1.000000</td>\n",
       "                        <td id=\"T_5b4bbd89_e9bf_11ea_ad84_507b9da5cd80row12_col13\" class=\"data row12 col13\" >0.068729</td>\n",
       "                        <td id=\"T_5b4bbd89_e9bf_11ea_ad84_507b9da5cd80row12_col14\" class=\"data row12 col14\" >0.078350</td>\n",
       "                        <td id=\"T_5b4bbd89_e9bf_11ea_ad84_507b9da5cd80row12_col15\" class=\"data row12 col15\" >0.071686</td>\n",
       "            </tr>\n",
       "            <tr>\n",
       "                        <th id=\"T_5b4bbd89_e9bf_11ea_ad84_507b9da5cd80level0_row13\" class=\"row_heading level0 row13\" >heartRate</th>\n",
       "                        <td id=\"T_5b4bbd89_e9bf_11ea_ad84_507b9da5cd80row13_col0\" class=\"data row13 col0\" >-0.116664</td>\n",
       "                        <td id=\"T_5b4bbd89_e9bf_11ea_ad84_507b9da5cd80row13_col1\" class=\"data row13 col1\" >-0.010098</td>\n",
       "                        <td id=\"T_5b4bbd89_e9bf_11ea_ad84_507b9da5cd80row13_col2\" class=\"data row13 col2\" >-0.055622</td>\n",
       "                        <td id=\"T_5b4bbd89_e9bf_11ea_ad84_507b9da5cd80row13_col3\" class=\"data row13 col3\" >0.056904</td>\n",
       "                        <td id=\"T_5b4bbd89_e9bf_11ea_ad84_507b9da5cd80row13_col4\" class=\"data row13 col4\" >0.070081</td>\n",
       "                        <td id=\"T_5b4bbd89_e9bf_11ea_ad84_507b9da5cd80row13_col5\" class=\"data row13 col5\" >0.017837</td>\n",
       "                        <td id=\"T_5b4bbd89_e9bf_11ea_ad84_507b9da5cd80row13_col6\" class=\"data row13 col6\" >-0.013780</td>\n",
       "                        <td id=\"T_5b4bbd89_e9bf_11ea_ad84_507b9da5cd80row13_col7\" class=\"data row13 col7\" >0.150363</td>\n",
       "                        <td id=\"T_5b4bbd89_e9bf_11ea_ad84_507b9da5cd80row13_col8\" class=\"data row13 col8\" >0.048337</td>\n",
       "                        <td id=\"T_5b4bbd89_e9bf_11ea_ad84_507b9da5cd80row13_col9\" class=\"data row13 col9\" >0.087894</td>\n",
       "                        <td id=\"T_5b4bbd89_e9bf_11ea_ad84_507b9da5cd80row13_col10\" class=\"data row13 col10\" >0.185004</td>\n",
       "                        <td id=\"T_5b4bbd89_e9bf_11ea_ad84_507b9da5cd80row13_col11\" class=\"data row13 col11\" >0.182445</td>\n",
       "                        <td id=\"T_5b4bbd89_e9bf_11ea_ad84_507b9da5cd80row13_col12\" class=\"data row13 col12\" >0.068729</td>\n",
       "                        <td id=\"T_5b4bbd89_e9bf_11ea_ad84_507b9da5cd80row13_col13\" class=\"data row13 col13\" >1.000000</td>\n",
       "                        <td id=\"T_5b4bbd89_e9bf_11ea_ad84_507b9da5cd80row13_col14\" class=\"data row13 col14\" >0.089020</td>\n",
       "                        <td id=\"T_5b4bbd89_e9bf_11ea_ad84_507b9da5cd80row13_col15\" class=\"data row13 col15\" >0.020717</td>\n",
       "            </tr>\n",
       "            <tr>\n",
       "                        <th id=\"T_5b4bbd89_e9bf_11ea_ad84_507b9da5cd80level0_row14\" class=\"row_heading level0 row14\" >glucose</th>\n",
       "                        <td id=\"T_5b4bbd89_e9bf_11ea_ad84_507b9da5cd80row14_col0\" class=\"data row14 col0\" >0.005198</td>\n",
       "                        <td id=\"T_5b4bbd89_e9bf_11ea_ad84_507b9da5cd80row14_col1\" class=\"data row14 col1\" >0.115053</td>\n",
       "                        <td id=\"T_5b4bbd89_e9bf_11ea_ad84_507b9da5cd80row14_col2\" class=\"data row14 col2\" >-0.032204</td>\n",
       "                        <td id=\"T_5b4bbd89_e9bf_11ea_ad84_507b9da5cd80row14_col3\" class=\"data row14 col3\" >-0.052289</td>\n",
       "                        <td id=\"T_5b4bbd89_e9bf_11ea_ad84_507b9da5cd80row14_col4\" class=\"data row14 col4\" >-0.052395</td>\n",
       "                        <td id=\"T_5b4bbd89_e9bf_11ea_ad84_507b9da5cd80row14_col5\" class=\"data row14 col5\" >0.050859</td>\n",
       "                        <td id=\"T_5b4bbd89_e9bf_11ea_ad84_507b9da5cd80row14_col6\" class=\"data row14 col6\" >0.010053</td>\n",
       "                        <td id=\"T_5b4bbd89_e9bf_11ea_ad84_507b9da5cd80row14_col7\" class=\"data row14 col7\" >0.084685</td>\n",
       "                        <td id=\"T_5b4bbd89_e9bf_11ea_ad84_507b9da5cd80row14_col8\" class=\"data row14 col8\" >0.606484</td>\n",
       "                        <td id=\"T_5b4bbd89_e9bf_11ea_ad84_507b9da5cd80row14_col9\" class=\"data row14 col9\" >0.047651</td>\n",
       "                        <td id=\"T_5b4bbd89_e9bf_11ea_ad84_507b9da5cd80row14_col10\" class=\"data row14 col10\" >0.137358</td>\n",
       "                        <td id=\"T_5b4bbd89_e9bf_11ea_ad84_507b9da5cd80row14_col11\" class=\"data row14 col11\" >0.063142</td>\n",
       "                        <td id=\"T_5b4bbd89_e9bf_11ea_ad84_507b9da5cd80row14_col12\" class=\"data row14 col12\" >0.078350</td>\n",
       "                        <td id=\"T_5b4bbd89_e9bf_11ea_ad84_507b9da5cd80row14_col13\" class=\"data row14 col13\" >0.089020</td>\n",
       "                        <td id=\"T_5b4bbd89_e9bf_11ea_ad84_507b9da5cd80row14_col14\" class=\"data row14 col14\" >1.000000</td>\n",
       "                        <td id=\"T_5b4bbd89_e9bf_11ea_ad84_507b9da5cd80row14_col15\" class=\"data row14 col15\" >0.118006</td>\n",
       "            </tr>\n",
       "            <tr>\n",
       "                        <th id=\"T_5b4bbd89_e9bf_11ea_ad84_507b9da5cd80level0_row15\" class=\"row_heading level0 row15\" >TenYearCHD</th>\n",
       "                        <td id=\"T_5b4bbd89_e9bf_11ea_ad84_507b9da5cd80row15_col0\" class=\"data row15 col0\" >0.087330</td>\n",
       "                        <td id=\"T_5b4bbd89_e9bf_11ea_ad84_507b9da5cd80row15_col1\" class=\"data row15 col1\" >0.226938</td>\n",
       "                        <td id=\"T_5b4bbd89_e9bf_11ea_ad84_507b9da5cd80row15_col2\" class=\"data row15 col2\" >-0.055297</td>\n",
       "                        <td id=\"T_5b4bbd89_e9bf_11ea_ad84_507b9da5cd80row15_col3\" class=\"data row15 col3\" >0.019066</td>\n",
       "                        <td id=\"T_5b4bbd89_e9bf_11ea_ad84_507b9da5cd80row15_col4\" class=\"data row15 col4\" >0.054795</td>\n",
       "                        <td id=\"T_5b4bbd89_e9bf_11ea_ad84_507b9da5cd80row15_col5\" class=\"data row15 col5\" >0.091652</td>\n",
       "                        <td id=\"T_5b4bbd89_e9bf_11ea_ad84_507b9da5cd80row15_col6\" class=\"data row15 col6\" >0.057077</td>\n",
       "                        <td id=\"T_5b4bbd89_e9bf_11ea_ad84_507b9da5cd80row15_col7\" class=\"data row15 col7\" >0.178108</td>\n",
       "                        <td id=\"T_5b4bbd89_e9bf_11ea_ad84_507b9da5cd80row15_col8\" class=\"data row15 col8\" >0.096801</td>\n",
       "                        <td id=\"T_5b4bbd89_e9bf_11ea_ad84_507b9da5cd80row15_col9\" class=\"data row15 col9\" >0.078813</td>\n",
       "                        <td id=\"T_5b4bbd89_e9bf_11ea_ad84_507b9da5cd80row15_col10\" class=\"data row15 col10\" >0.217992</td>\n",
       "                        <td id=\"T_5b4bbd89_e9bf_11ea_ad84_507b9da5cd80row15_col11\" class=\"data row15 col11\" >0.148468</td>\n",
       "                        <td id=\"T_5b4bbd89_e9bf_11ea_ad84_507b9da5cd80row15_col12\" class=\"data row15 col12\" >0.071686</td>\n",
       "                        <td id=\"T_5b4bbd89_e9bf_11ea_ad84_507b9da5cd80row15_col13\" class=\"data row15 col13\" >0.020717</td>\n",
       "                        <td id=\"T_5b4bbd89_e9bf_11ea_ad84_507b9da5cd80row15_col14\" class=\"data row15 col14\" >0.118006</td>\n",
       "                        <td id=\"T_5b4bbd89_e9bf_11ea_ad84_507b9da5cd80row15_col15\" class=\"data row15 col15\" >1.000000</td>\n",
       "            </tr>\n",
       "    </tbody></table>"
      ],
      "text/plain": [
       "<pandas.io.formats.style.Styler at 0x1ffcf85c340>"
      ]
     },
     "execution_count": 11,
     "metadata": {},
     "output_type": "execute_result"
    }
   ],
   "source": [
    "#Checking the correlation\n",
    "df.corr()\n",
    "df.corr().style.background_gradient(cmap = 'RdYlGn')"
   ]
  },
  {
   "cell_type": "code",
   "execution_count": 12,
   "metadata": {},
   "outputs": [
    {
     "data": {
      "text/plain": [
       "<matplotlib.axes._subplots.AxesSubplot at 0x1ffd0dc1190>"
      ]
     },
     "execution_count": 12,
     "metadata": {},
     "output_type": "execute_result"
    },
    {
     "data": {
      "image/png": "[encoded data removed]",
      "text/plain": [
       "<Figure size 864x432 with 2 Axes>"
      ]
     },
     "metadata": {
      "needs_background": "light"
     },
     "output_type": "display_data"
    }
   ],
   "source": [
    "#Checking correlation with a heatmap\n",
    "plt.figure(figsize=(12,6))\n",
    "sns.heatmap(df.corr(),annot = True, cmap = 'RdYlGn')"
   ]
  },
  {
   "cell_type": "code",
   "execution_count": 13,
   "metadata": {},
   "outputs": [
    {
     "data": {
      "text/plain": [
       "education         -0.055297\n",
       "currentSmoker      0.019066\n",
       "heartRate          0.020717\n",
       "cigsPerDay         0.054795\n",
       "prevalentStroke    0.057077\n",
       "BMI                0.071686\n",
       "totChol            0.078813\n",
       "male               0.087330\n",
       "BPMeds             0.091652\n",
       "diabetes           0.096801\n",
       "glucose            0.118006\n",
       "diaBP              0.148468\n",
       "prevalentHyp       0.178108\n",
       "sysBP              0.217992\n",
       "age                0.226938\n",
       "TenYearCHD         1.000000\n",
       "Name: TenYearCHD, dtype: float64"
      ]
     },
     "execution_count": 13,
     "metadata": {},
     "output_type": "execute_result"
    }
   ],
   "source": [
    "#correlation with respect to the target variable\n",
    "df.corr()['TenYearCHD'].sort_values()"
   ]
  },
  {
   "cell_type": "code",
   "execution_count": 15,
   "metadata": {},
   "outputs": [
    {
     "data": {
      "text/plain": [
       "<matplotlib.axes._subplots.AxesSubplot at 0x1ffd18a4190>"
      ]
     },
     "execution_count": 15,
     "metadata": {},
     "output_type": "execute_result"
    },
    {
     "data": {
      "image/png": "[encoded data removed]",
      "text/plain": [
       "<Figure size 432x288 with 1 Axes>"
      ]
     },
     "metadata": {
      "needs_background": "light"
     },
     "output_type": "display_data"
    }
   ],
   "source": [
    "df.corr()['TenYearCHD'].sort_values().drop('TenYearCHD').plot(kind = 'bar')"
   ]
  },
  {
   "cell_type": "code",
   "execution_count": 83,
   "metadata": {},
   "outputs": [
    {
     "data": {
      "text/plain": [
       "<matplotlib.axes._subplots.AxesSubplot at 0x1ffd946b820>"
      ]
     },
     "execution_count": 83,
     "metadata": {},
     "output_type": "execute_result"
    },
    {
     "data": {
      "image/png": "[encoded data removed]",
      "text/plain": [
       "<Figure size 432x288 with 1 Axes>"
      ]
     },
     "metadata": {},
     "output_type": "display_data"
    }
   ],
   "source": [
    "sns.countplot(x = 'TenYearCHD',data=df, palette = 'Set2')"
   ]
  },
  {
   "cell_type": "code",
   "execution_count": 17,
   "metadata": {},
   "outputs": [
    {
     "data": {
      "text/plain": [
       "0    0.84847\n",
       "1    0.15153\n",
       "Name: TenYearCHD, dtype: float64"
      ]
     },
     "execution_count": 17,
     "metadata": {},
     "output_type": "execute_result"
    }
   ],
   "source": [
    "#We can see here that the data seems to be imbalanced as there are almost 85% in 0 class and 15% in 1 class\n",
    "#We will thus balance this dataset in the later stages\n",
    "df['TenYearCHD'].value_counts() / len(df['TenYearCHD'])"
   ]
  },
  {
   "cell_type": "code",
   "execution_count": 18,
   "metadata": {},
   "outputs": [
    {
     "data": {
      "image/png": "[encoded data removed]",
      "text/plain": [
       "<Figure size 648x360 with 1 Axes>"
      ]
     },
     "metadata": {},
     "output_type": "display_data"
    }
   ],
   "source": [
    "#Presence of the disease with respect to the age\n",
    "sns.set_style('whitegrid')\n",
    "plt.figure(figsize=(9,5))\n",
    "sns.countplot(x='age',data=df,hue='TenYearCHD')\n",
    "plt.tight_layout()"
   ]
  },
  {
   "cell_type": "code",
   "execution_count": 19,
   "metadata": {},
   "outputs": [
    {
     "data": {
      "image/png": "[encoded data removed]",
      "text/plain": [
       "<Figure size 648x360 with 1 Axes>"
      ]
     },
     "metadata": {},
     "output_type": "display_data"
    }
   ],
   "source": [
    "plt.figure(figsize=(9,5))\n",
    "sns.barplot(x='age',y='cigsPerDay',data=df)\n",
    "plt.tight_layout()"
   ]
  },
  {
   "cell_type": "code",
   "execution_count": 20,
   "metadata": {},
   "outputs": [
    {
     "data": {
      "image/png": "[encoded data removed]",
      "text/plain": [
       "<Figure size 576x288 with 1 Axes>"
      ]
     },
     "metadata": {},
     "output_type": "display_data"
    }
   ],
   "source": [
    "#Here 0 is Female and 1 is Male\n",
    "plt.figure(figsize=(8,4))\n",
    "sns.barplot(x='male',y='TenYearCHD',data=df, palette = 'Set2')\n",
    "plt.tight_layout()"
   ]
  },
  {
   "cell_type": "code",
   "execution_count": 21,
   "metadata": {},
   "outputs": [
    {
     "data": {
      "image/png": "[encoded data removed]",
      "text/plain": [
       "<Figure size 576x288 with 1 Axes>"
      ]
     },
     "metadata": {},
     "output_type": "display_data"
    }
   ],
   "source": [
    "plt.figure(figsize=(8,4))\n",
    "sns.barplot(x='TenYearCHD',y='cigsPerDay',data=df, palette = 'Set2')\n",
    "plt.tight_layout()"
   ]
  },
  {
   "cell_type": "code",
   "execution_count": 22,
   "metadata": {},
   "outputs": [
    {
     "data": {
      "image/png": "[encoded data removed]",
      "text/plain": [
       "<Figure size 576x288 with 1 Axes>"
      ]
     },
     "metadata": {},
     "output_type": "display_data"
    }
   ],
   "source": [
    "plt.figure(figsize=(8,4))\n",
    "sns.barplot(x='TenYearCHD',y='glucose',data=df, palette = 'Set2')\n",
    "plt.tight_layout()"
   ]
  },
  {
   "cell_type": "code",
   "execution_count": 23,
   "metadata": {},
   "outputs": [
    {
     "data": {
      "image/png": "[encoded data removed]",
      "text/plain": [
       "<Figure size 576x288 with 1 Axes>"
      ]
     },
     "metadata": {},
     "output_type": "display_data"
    }
   ],
   "source": [
    "# 0 is not hvaing diabetes and 1 is having diabetes\n",
    "plt.figure(figsize=(8,4))\n",
    "sns.barplot(x='diabetes',y='glucose',data=df, palette = 'Set2')\n",
    "plt.tight_layout()"
   ]
  },
  {
   "cell_type": "code",
   "execution_count": 24,
   "metadata": {},
   "outputs": [
    {
     "data": {
      "text/plain": [
       "<matplotlib.axes._subplots.AxesSubplot at 0x1ffd1da3730>"
      ]
     },
     "execution_count": 24,
     "metadata": {},
     "output_type": "execute_result"
    },
    {
     "data": {
      "image/png": "[encoded data removed]",
      "text/plain": [
       "<Figure size 720x360 with 1 Axes>"
      ]
     },
     "metadata": {},
     "output_type": "display_data"
    }
   ],
   "source": [
    "plt.figure(figsize=(10,5))\n",
    "sns.distplot(df['heartRate'])"
   ]
  },
  {
   "cell_type": "code",
   "execution_count": 25,
   "metadata": {},
   "outputs": [
    {
     "data": {
      "text/plain": [
       "<matplotlib.axes._subplots.AxesSubplot at 0x1ffd2ea1d90>"
      ]
     },
     "execution_count": 25,
     "metadata": {},
     "output_type": "execute_result"
    },
    {
     "data": {
      "image/png": "[encoded data removed]",
      "text/plain": [
       "<Figure size 720x360 with 1 Axes>"
      ]
     },
     "metadata": {},
     "output_type": "display_data"
    }
   ],
   "source": [
    "plt.figure(figsize=(10,5))\n",
    "sns.distplot(df['glucose'],color='orange')"
   ]
  },
  {
   "cell_type": "code",
   "execution_count": 26,
   "metadata": {},
   "outputs": [
    {
     "data": {
      "text/plain": [
       "<matplotlib.axes._subplots.AxesSubplot at 0x1ffd2f24580>"
      ]
     },
     "execution_count": 26,
     "metadata": {},
     "output_type": "execute_result"
    },
    {
     "data": {
      "image/png": "[encoded data removed]",
      "text/plain": [
       "<Figure size 720x360 with 1 Axes>"
      ]
     },
     "metadata": {},
     "output_type": "display_data"
    }
   ],
   "source": [
    "plt.figure(figsize=(10,5))\n",
    "sns.distplot(df['sysBP'],color='red')"
   ]
  },
  {
   "cell_type": "code",
   "execution_count": 27,
   "metadata": {},
   "outputs": [
    {
     "data": {
      "text/plain": [
       "<matplotlib.axes._subplots.AxesSubplot at 0x1ffd1d760a0>"
      ]
     },
     "execution_count": 27,
     "metadata": {},
     "output_type": "execute_result"
    },
    {
     "data": {
      "image/png": "[encoded data removed]",
      "text/plain": [
       "<Figure size 720x360 with 1 Axes>"
      ]
     },
     "metadata": {},
     "output_type": "display_data"
    }
   ],
   "source": [
    "plt.figure(figsize=(10,5))\n",
    "sns.distplot(df['BMI'],color = 'purple')"
   ]
  },
  {
   "cell_type": "code",
   "execution_count": 28,
   "metadata": {},
   "outputs": [
    {
     "data": {
      "text/plain": [
       "<matplotlib.axes._subplots.AxesSubplot at 0x1ffd1cb21f0>"
      ]
     },
     "execution_count": 28,
     "metadata": {},
     "output_type": "execute_result"
    },
    {
     "data": {
      "image/png": "[encoded data removed]",
      "text/plain": [
       "<Figure size 720x360 with 1 Axes>"
      ]
     },
     "metadata": {},
     "output_type": "display_data"
    }
   ],
   "source": [
    "plt.figure(figsize=(10,5))\n",
    "sns.boxplot(x='TenYearCHD',y='age',data=df, palette= 'rainbow')"
   ]
  },
  {
   "cell_type": "code",
   "execution_count": 29,
   "metadata": {},
   "outputs": [],
   "source": [
    "#We will drop the education column as it has a negative correlation with our target variable and will not be of much  help.\n",
    "df.drop('education',axis=1,inplace = True)"
   ]
  },
  {
   "cell_type": "code",
   "execution_count": 30,
   "metadata": {},
   "outputs": [
    {
     "data": {
      "text/html": [
       "<div>\n",
       "<style scoped>\n",
       "    .dataframe tbody tr th:only-of-type {\n",
       "        vertical-align: middle;\n",
       "    }\n",
       "\n",
       "    .dataframe tbody tr th {\n",
       "        vertical-align: top;\n",
       "    }\n",
       "\n",
       "    .dataframe thead th {\n",
       "        text-align: right;\n",
       "    }\n",
       "</style>\n",
       "<table border=\"1\" class=\"dataframe\">\n",
       "  <thead>\n",
       "    <tr style=\"text-align: right;\">\n",
       "      <th></th>\n",
       "      <th>male</th>\n",
       "      <th>age</th>\n",
       "      <th>currentSmoker</th>\n",
       "      <th>cigsPerDay</th>\n",
       "      <th>BPMeds</th>\n",
       "      <th>prevalentStroke</th>\n",
       "      <th>prevalentHyp</th>\n",
       "      <th>diabetes</th>\n",
       "      <th>totChol</th>\n",
       "      <th>sysBP</th>\n",
       "      <th>diaBP</th>\n",
       "      <th>BMI</th>\n",
       "      <th>heartRate</th>\n",
       "      <th>glucose</th>\n",
       "      <th>TenYearCHD</th>\n",
       "    </tr>\n",
       "  </thead>\n",
       "  <tbody>\n",
       "    <tr>\n",
       "      <th>0</th>\n",
       "      <td>1</td>\n",
       "      <td>39</td>\n",
       "      <td>0</td>\n",
       "      <td>0.0</td>\n",
       "      <td>0.0</td>\n",
       "      <td>0</td>\n",
       "      <td>0</td>\n",
       "      <td>0</td>\n",
       "      <td>195.0</td>\n",
       "      <td>106.0</td>\n",
       "      <td>70.0</td>\n",
       "      <td>26.97</td>\n",
       "      <td>80.0</td>\n",
       "      <td>77.0</td>\n",
       "      <td>0</td>\n",
       "    </tr>\n",
       "    <tr>\n",
       "      <th>1</th>\n",
       "      <td>0</td>\n",
       "      <td>46</td>\n",
       "      <td>0</td>\n",
       "      <td>0.0</td>\n",
       "      <td>0.0</td>\n",
       "      <td>0</td>\n",
       "      <td>0</td>\n",
       "      <td>0</td>\n",
       "      <td>250.0</td>\n",
       "      <td>121.0</td>\n",
       "      <td>81.0</td>\n",
       "      <td>28.73</td>\n",
       "      <td>95.0</td>\n",
       "      <td>76.0</td>\n",
       "      <td>0</td>\n",
       "    </tr>\n",
       "    <tr>\n",
       "      <th>2</th>\n",
       "      <td>1</td>\n",
       "      <td>48</td>\n",
       "      <td>1</td>\n",
       "      <td>20.0</td>\n",
       "      <td>0.0</td>\n",
       "      <td>0</td>\n",
       "      <td>0</td>\n",
       "      <td>0</td>\n",
       "      <td>245.0</td>\n",
       "      <td>127.5</td>\n",
       "      <td>80.0</td>\n",
       "      <td>25.34</td>\n",
       "      <td>75.0</td>\n",
       "      <td>70.0</td>\n",
       "      <td>0</td>\n",
       "    </tr>\n",
       "    <tr>\n",
       "      <th>3</th>\n",
       "      <td>0</td>\n",
       "      <td>61</td>\n",
       "      <td>1</td>\n",
       "      <td>30.0</td>\n",
       "      <td>0.0</td>\n",
       "      <td>0</td>\n",
       "      <td>1</td>\n",
       "      <td>0</td>\n",
       "      <td>225.0</td>\n",
       "      <td>150.0</td>\n",
       "      <td>95.0</td>\n",
       "      <td>28.58</td>\n",
       "      <td>65.0</td>\n",
       "      <td>103.0</td>\n",
       "      <td>1</td>\n",
       "    </tr>\n",
       "    <tr>\n",
       "      <th>4</th>\n",
       "      <td>0</td>\n",
       "      <td>46</td>\n",
       "      <td>1</td>\n",
       "      <td>23.0</td>\n",
       "      <td>0.0</td>\n",
       "      <td>0</td>\n",
       "      <td>0</td>\n",
       "      <td>0</td>\n",
       "      <td>285.0</td>\n",
       "      <td>130.0</td>\n",
       "      <td>84.0</td>\n",
       "      <td>23.10</td>\n",
       "      <td>85.0</td>\n",
       "      <td>85.0</td>\n",
       "      <td>0</td>\n",
       "    </tr>\n",
       "  </tbody>\n",
       "</table>\n",
       "</div>"
      ],
      "text/plain": [
       "   male  age  currentSmoker  cigsPerDay  BPMeds  prevalentStroke  \\\n",
       "0     1   39              0         0.0     0.0                0   \n",
       "1     0   46              0         0.0     0.0                0   \n",
       "2     1   48              1        20.0     0.0                0   \n",
       "3     0   61              1        30.0     0.0                0   \n",
       "4     0   46              1        23.0     0.0                0   \n",
       "\n",
       "   prevalentHyp  diabetes  totChol  sysBP  diaBP    BMI  heartRate  glucose  \\\n",
       "0             0         0    195.0  106.0   70.0  26.97       80.0     77.0   \n",
       "1             0         0    250.0  121.0   81.0  28.73       95.0     76.0   \n",
       "2             0         0    245.0  127.5   80.0  25.34       75.0     70.0   \n",
       "3             1         0    225.0  150.0   95.0  28.58       65.0    103.0   \n",
       "4             0         0    285.0  130.0   84.0  23.10       85.0     85.0   \n",
       "\n",
       "   TenYearCHD  \n",
       "0           0  \n",
       "1           0  \n",
       "2           0  \n",
       "3           1  \n",
       "4           0  "
      ]
     },
     "execution_count": 30,
     "metadata": {},
     "output_type": "execute_result"
    }
   ],
   "source": [
    "df.head()"
   ]
  },
  {
   "cell_type": "code",
   "execution_count": 31,
   "metadata": {},
   "outputs": [],
   "source": [
    "X = df.drop('TenYearCHD',axis = 1) #idependant variables\n",
    "y = df['TenYearCHD'] # Dependant variable / target"
   ]
  },
  {
   "cell_type": "markdown",
   "metadata": {},
   "source": [
    "# Balancing the dataset using SMOTETomek"
   ]
  },
  {
   "cell_type": "code",
   "execution_count": 32,
   "metadata": {},
   "outputs": [],
   "source": [
    "#SMOTETomek is a hybrid method which uses undersampling method with an oversampling method.\n",
    "from imblearn.combine import SMOTETomek"
   ]
  },
  {
   "cell_type": "code",
   "execution_count": 33,
   "metadata": {},
   "outputs": [],
   "source": [
    "smk = SMOTETomek(random_state = 42)\n",
    "X_res, y_res = smk.fit_sample(X,y)"
   ]
  },
  {
   "cell_type": "code",
   "execution_count": 34,
   "metadata": {},
   "outputs": [
    {
     "data": {
      "text/plain": [
       "((6816, 14), (6816,))"
      ]
     },
     "execution_count": 34,
     "metadata": {},
     "output_type": "execute_result"
    }
   ],
   "source": [
    "X_res.shape, y_res.shape"
   ]
  },
  {
   "cell_type": "code",
   "execution_count": 35,
   "metadata": {},
   "outputs": [],
   "source": [
    "from collections import Counter"
   ]
  },
  {
   "cell_type": "code",
   "execution_count": 36,
   "metadata": {},
   "outputs": [
    {
     "name": "stdout",
     "output_type": "stream",
     "text": [
      "Original dataset shape Counter({0: 3438, 1: 614})\n",
      "Resampled dataset shape Counter({0: 3408, 1: 3408})\n"
     ]
    }
   ],
   "source": [
    "print('Original dataset shape {}'.format(Counter(y)))\n",
    "print('Resampled dataset shape {}'.format(Counter(y_res)))"
   ]
  },
  {
   "cell_type": "markdown",
   "metadata": {},
   "source": [
    "# Splitting the data into training and test sets"
   ]
  },
  {
   "cell_type": "code",
   "execution_count": 37,
   "metadata": {},
   "outputs": [],
   "source": [
    "from sklearn.model_selection import train_test_split"
   ]
  },
  {
   "cell_type": "code",
   "execution_count": 54,
   "metadata": {},
   "outputs": [],
   "source": [
    "X_train, X_test, y_train, y_test = train_test_split(X_res, y_res, test_size=0.30, random_state=101)"
   ]
  },
  {
   "cell_type": "markdown",
   "metadata": {},
   "source": [
    "# Scaling the data "
   ]
  },
  {
   "cell_type": "code",
   "execution_count": 55,
   "metadata": {},
   "outputs": [],
   "source": [
    "from sklearn.preprocessing import StandardScaler"
   ]
  },
  {
   "cell_type": "code",
   "execution_count": 56,
   "metadata": {},
   "outputs": [],
   "source": [
    "scaler = StandardScaler()"
   ]
  },
  {
   "cell_type": "code",
   "execution_count": 57,
   "metadata": {},
   "outputs": [],
   "source": [
    "X_train = scaler.fit_transform(X_train)"
   ]
  },
  {
   "cell_type": "code",
   "execution_count": 58,
   "metadata": {},
   "outputs": [],
   "source": [
    "X_test = scaler.transform(X_test)"
   ]
  },
  {
   "cell_type": "code",
   "execution_count": 59,
   "metadata": {},
   "outputs": [
    {
     "data": {
      "text/plain": [
       "(4771, 14)"
      ]
     },
     "execution_count": 59,
     "metadata": {},
     "output_type": "execute_result"
    }
   ],
   "source": [
    "X_train.shape"
   ]
  },
  {
   "cell_type": "markdown",
   "metadata": {},
   "source": [
    "# Logistic Regression"
   ]
  },
  {
   "cell_type": "code",
   "execution_count": 60,
   "metadata": {},
   "outputs": [],
   "source": [
    "from sklearn.linear_model import LogisticRegression\n",
    "from sklearn.model_selection import cross_val_score"
   ]
  },
  {
   "cell_type": "code",
   "execution_count": 61,
   "metadata": {},
   "outputs": [
    {
     "data": {
      "text/plain": [
       "LogisticRegression()"
      ]
     },
     "execution_count": 61,
     "metadata": {},
     "output_type": "execute_result"
    }
   ],
   "source": [
    "lr = LogisticRegression()\n",
    "lr.fit(X_train,y_train)"
   ]
  },
  {
   "cell_type": "code",
   "execution_count": 62,
   "metadata": {},
   "outputs": [],
   "source": [
    "predictions = lr.predict(X_test)"
   ]
  },
  {
   "cell_type": "code",
   "execution_count": 63,
   "metadata": {},
   "outputs": [],
   "source": [
    "from sklearn.metrics import classification_report,confusion_matrix,accuracy_score"
   ]
  },
  {
   "cell_type": "code",
   "execution_count": 64,
   "metadata": {},
   "outputs": [
    {
     "name": "stdout",
     "output_type": "stream",
     "text": [
      "Classification Report :\n",
      "              precision    recall  f1-score   support\n",
      "\n",
      "           0       0.69      0.69      0.69      1021\n",
      "           1       0.69      0.69      0.69      1024\n",
      "\n",
      "    accuracy                           0.69      2045\n",
      "   macro avg       0.69      0.69      0.69      2045\n",
      "weighted avg       0.69      0.69      0.69      2045\n",
      "\n",
      "\n",
      "\n",
      "Confusion Matrix :\n",
      "[[702 319]\n",
      " [321 703]]\n",
      "\n",
      "\n",
      "Accuracy Score :\n",
      "0.687041564792176\n"
     ]
    }
   ],
   "source": [
    "print('Classification Report :')\n",
    "print(classification_report(y_test,predictions))\n",
    "print('\\n')\n",
    "print('Confusion Matrix :')\n",
    "print(confusion_matrix(y_test,predictions))\n",
    "print('\\n')\n",
    "print('Accuracy Score :')\n",
    "print(accuracy_score(y_test,predictions))"
   ]
  },
  {
   "cell_type": "markdown",
   "metadata": {},
   "source": [
    "# Random Forest Classifier"
   ]
  },
  {
   "cell_type": "code",
   "execution_count": 65,
   "metadata": {},
   "outputs": [],
   "source": [
    "from sklearn.ensemble import RandomForestClassifier"
   ]
  },
  {
   "cell_type": "code",
   "execution_count": 66,
   "metadata": {},
   "outputs": [],
   "source": [
    "rfc = RandomForestClassifier(n_estimators = 50)"
   ]
  },
  {
   "cell_type": "code",
   "execution_count": 67,
   "metadata": {},
   "outputs": [
    {
     "data": {
      "text/plain": [
       "RandomForestClassifier(n_estimators=50)"
      ]
     },
     "execution_count": 67,
     "metadata": {},
     "output_type": "execute_result"
    }
   ],
   "source": [
    "rfc.fit(X_train,y_train)"
   ]
  },
  {
   "cell_type": "code",
   "execution_count": 68,
   "metadata": {},
   "outputs": [],
   "source": [
    "rfc_predict = rfc.predict(X_test)"
   ]
  },
  {
   "cell_type": "code",
   "execution_count": 69,
   "metadata": {},
   "outputs": [
    {
     "name": "stdout",
     "output_type": "stream",
     "text": [
      "Classification Report :\n",
      "              precision    recall  f1-score   support\n",
      "\n",
      "           0       0.86      0.89      0.88      1021\n",
      "           1       0.89      0.86      0.87      1024\n",
      "\n",
      "    accuracy                           0.88      2045\n",
      "   macro avg       0.88      0.88      0.88      2045\n",
      "weighted avg       0.88      0.88      0.88      2045\n",
      "\n",
      "\n",
      "\n",
      "Confusion Matrix :\n",
      "[[913 108]\n",
      " [144 880]]\n",
      "\n",
      "\n",
      "Accuracy Score :\n",
      "0.8767726161369194\n"
     ]
    }
   ],
   "source": [
    "print('Classification Report :')\n",
    "print(classification_report(y_test,rfc_predict))\n",
    "print('\\n')\n",
    "print('Confusion Matrix :')\n",
    "print(confusion_matrix(y_test,rfc_predict))\n",
    "print('\\n')\n",
    "print('Accuracy Score :')\n",
    "print(accuracy_score(y_test,rfc_predict))"
   ]
  },
  {
   "cell_type": "markdown",
   "metadata": {},
   "source": [
    "# Support Vector Machines"
   ]
  },
  {
   "cell_type": "code",
   "execution_count": 70,
   "metadata": {},
   "outputs": [],
   "source": [
    "from sklearn.svm import SVC"
   ]
  },
  {
   "cell_type": "code",
   "execution_count": 71,
   "metadata": {},
   "outputs": [
    {
     "name": "stdout",
     "output_type": "stream",
     "text": [
      "Classification Report :\n",
      "              precision    recall  f1-score   support\n",
      "\n",
      "           0       0.74      0.73      0.73      1021\n",
      "           1       0.73      0.75      0.74      1024\n",
      "\n",
      "    accuracy                           0.74      2045\n",
      "   macro avg       0.74      0.74      0.74      2045\n",
      "weighted avg       0.74      0.74      0.74      2045\n",
      "\n",
      "\n",
      "\n",
      "Confusion Matrix :\n",
      "[[741 280]\n",
      " [255 769]]\n",
      "\n",
      "\n",
      "Accuracy Score :\n",
      "0.7383863080684596\n"
     ]
    }
   ],
   "source": [
    "svm = SVC()\n",
    "svm.fit(X_train,y_train)\n",
    "svm_predict = svm.predict(X_test)\n",
    "\n",
    "print('Classification Report :')\n",
    "print(classification_report(y_test,svm_predict))\n",
    "print('\\n')\n",
    "print('Confusion Matrix :')\n",
    "print(confusion_matrix(y_test,svm_predict))\n",
    "print('\\n')\n",
    "print('Accuracy Score :')\n",
    "print(accuracy_score(y_test,svm_predict))"
   ]
  },
  {
   "cell_type": "code",
   "execution_count": 72,
   "metadata": {},
   "outputs": [],
   "source": [
    "#Using GridSearch CV and checking for the right hyperparameter to get better results\n",
    "from sklearn.model_selection import GridSearchCV"
   ]
  },
  {
   "cell_type": "code",
   "execution_count": 73,
   "metadata": {},
   "outputs": [],
   "source": [
    "param_grid = {'C': [0.1,1, 10, 100, 1000], 'gamma': [1,0.1,0.01,0.001,0.0001], 'kernel': ['rbf']}\n",
    "grid = GridSearchCV(SVC(),param_grid,refit=True,verbose=3)"
   ]
  },
  {
   "cell_type": "code",
   "execution_count": 74,
   "metadata": {},
   "outputs": [
    {
     "name": "stdout",
     "output_type": "stream",
     "text": [
      "Fitting 5 folds for each of 25 candidates, totalling 125 fits\n",
      "[CV] C=0.1, gamma=1, kernel=rbf ......................................\n"
     ]
    },
    {
     "name": "stderr",
     "output_type": "stream",
     "text": [
      "[Parallel(n_jobs=1)]: Using backend SequentialBackend with 1 concurrent workers.\n"
     ]
    },
    {
     "name": "stdout",
     "output_type": "stream",
     "text": [
      "[CV] .......... C=0.1, gamma=1, kernel=rbf, score=0.774, total=   0.8s\n",
      "[CV] C=0.1, gamma=1, kernel=rbf ......................................\n"
     ]
    },
    {
     "name": "stderr",
     "output_type": "stream",
     "text": [
      "[Parallel(n_jobs=1)]: Done   1 out of   1 | elapsed:    0.7s remaining:    0.0s\n"
     ]
    },
    {
     "name": "stdout",
     "output_type": "stream",
     "text": [
      "[CV] .......... C=0.1, gamma=1, kernel=rbf, score=0.773, total=   0.8s\n",
      "[CV] C=0.1, gamma=1, kernel=rbf ......................................\n"
     ]
    },
    {
     "name": "stderr",
     "output_type": "stream",
     "text": [
      "[Parallel(n_jobs=1)]: Done   2 out of   2 | elapsed:    1.5s remaining:    0.0s\n"
     ]
    },
    {
     "name": "stdout",
     "output_type": "stream",
     "text": [
      "[CV] .......... C=0.1, gamma=1, kernel=rbf, score=0.740, total=   0.8s\n",
      "[CV] C=0.1, gamma=1, kernel=rbf ......................................\n",
      "[CV] .......... C=0.1, gamma=1, kernel=rbf, score=0.711, total=   0.8s\n",
      "[CV] C=0.1, gamma=1, kernel=rbf ......................................\n",
      "[CV] .......... C=0.1, gamma=1, kernel=rbf, score=0.722, total=   0.8s\n",
      "[CV] C=0.1, gamma=0.1, kernel=rbf ....................................\n",
      "[CV] ........ C=0.1, gamma=0.1, kernel=rbf, score=0.716, total=   0.7s\n",
      "[CV] C=0.1, gamma=0.1, kernel=rbf ....................................\n",
      "[CV] ........ C=0.1, gamma=0.1, kernel=rbf, score=0.712, total=   0.7s\n",
      "[CV] C=0.1, gamma=0.1, kernel=rbf ....................................\n",
      "[CV] ........ C=0.1, gamma=0.1, kernel=rbf, score=0.676, total=   0.7s\n",
      "[CV] C=0.1, gamma=0.1, kernel=rbf ....................................\n",
      "[CV] ........ C=0.1, gamma=0.1, kernel=rbf, score=0.682, total=   0.7s\n",
      "[CV] C=0.1, gamma=0.1, kernel=rbf ....................................\n",
      "[CV] ........ C=0.1, gamma=0.1, kernel=rbf, score=0.689, total=   0.7s\n",
      "[CV] C=0.1, gamma=0.01, kernel=rbf ...................................\n",
      "[CV] ....... C=0.1, gamma=0.01, kernel=rbf, score=0.702, total=   0.7s\n",
      "[CV] C=0.1, gamma=0.01, kernel=rbf ...................................\n",
      "[CV] ....... C=0.1, gamma=0.01, kernel=rbf, score=0.691, total=   0.7s\n",
      "[CV] C=0.1, gamma=0.01, kernel=rbf ...................................\n",
      "[CV] ....... C=0.1, gamma=0.01, kernel=rbf, score=0.648, total=   0.7s\n",
      "[CV] C=0.1, gamma=0.01, kernel=rbf ...................................\n",
      "[CV] ....... C=0.1, gamma=0.01, kernel=rbf, score=0.652, total=   0.7s\n",
      "[CV] C=0.1, gamma=0.01, kernel=rbf ...................................\n",
      "[CV] ....... C=0.1, gamma=0.01, kernel=rbf, score=0.687, total=   0.7s\n",
      "[CV] C=0.1, gamma=0.001, kernel=rbf ..................................\n",
      "[CV] ...... C=0.1, gamma=0.001, kernel=rbf, score=0.632, total=   0.8s\n",
      "[CV] C=0.1, gamma=0.001, kernel=rbf ..................................\n",
      "[CV] ...... C=0.1, gamma=0.001, kernel=rbf, score=0.627, total=   0.8s\n",
      "[CV] C=0.1, gamma=0.001, kernel=rbf ..................................\n",
      "[CV] ...... C=0.1, gamma=0.001, kernel=rbf, score=0.603, total=   0.8s\n",
      "[CV] C=0.1, gamma=0.001, kernel=rbf ..................................\n",
      "[CV] ...... C=0.1, gamma=0.001, kernel=rbf, score=0.614, total=   0.8s\n",
      "[CV] C=0.1, gamma=0.001, kernel=rbf ..................................\n",
      "[CV] ...... C=0.1, gamma=0.001, kernel=rbf, score=0.624, total=   0.8s\n",
      "[CV] C=0.1, gamma=0.0001, kernel=rbf .................................\n",
      "[CV] ..... C=0.1, gamma=0.0001, kernel=rbf, score=0.501, total=   0.8s\n",
      "[CV] C=0.1, gamma=0.0001, kernel=rbf .................................\n",
      "[CV] ..... C=0.1, gamma=0.0001, kernel=rbf, score=0.501, total=   0.8s\n",
      "[CV] C=0.1, gamma=0.0001, kernel=rbf .................................\n",
      "[CV] ..... C=0.1, gamma=0.0001, kernel=rbf, score=0.500, total=   0.8s\n",
      "[CV] C=0.1, gamma=0.0001, kernel=rbf .................................\n",
      "[CV] ..... C=0.1, gamma=0.0001, kernel=rbf, score=0.500, total=   0.8s\n",
      "[CV] C=0.1, gamma=0.0001, kernel=rbf .................................\n",
      "[CV] ..... C=0.1, gamma=0.0001, kernel=rbf, score=0.500, total=   0.8s\n",
      "[CV] C=1, gamma=1, kernel=rbf ........................................\n",
      "[CV] ............ C=1, gamma=1, kernel=rbf, score=0.849, total=   1.0s\n",
      "[CV] C=1, gamma=1, kernel=rbf ........................................\n",
      "[CV] ............ C=1, gamma=1, kernel=rbf, score=0.838, total=   1.0s\n",
      "[CV] C=1, gamma=1, kernel=rbf ........................................\n",
      "[CV] ............ C=1, gamma=1, kernel=rbf, score=0.813, total=   0.9s\n",
      "[CV] C=1, gamma=1, kernel=rbf ........................................\n",
      "[CV] ............ C=1, gamma=1, kernel=rbf, score=0.816, total=   0.9s\n",
      "[CV] C=1, gamma=1, kernel=rbf ........................................\n",
      "[CV] ............ C=1, gamma=1, kernel=rbf, score=0.820, total=   0.9s\n",
      "[CV] C=1, gamma=0.1, kernel=rbf ......................................\n",
      "[CV] .......... C=1, gamma=0.1, kernel=rbf, score=0.760, total=   0.6s\n",
      "[CV] C=1, gamma=0.1, kernel=rbf ......................................\n",
      "[CV] .......... C=1, gamma=0.1, kernel=rbf, score=0.760, total=   0.6s\n",
      "[CV] C=1, gamma=0.1, kernel=rbf ......................................\n",
      "[CV] .......... C=1, gamma=0.1, kernel=rbf, score=0.751, total=   0.6s\n",
      "[CV] C=1, gamma=0.1, kernel=rbf ......................................\n",
      "[CV] .......... C=1, gamma=0.1, kernel=rbf, score=0.727, total=   0.6s\n",
      "[CV] C=1, gamma=0.1, kernel=rbf ......................................\n",
      "[CV] .......... C=1, gamma=0.1, kernel=rbf, score=0.748, total=   0.6s\n",
      "[CV] C=1, gamma=0.01, kernel=rbf .....................................\n",
      "[CV] ......... C=1, gamma=0.01, kernel=rbf, score=0.726, total=   0.6s\n",
      "[CV] C=1, gamma=0.01, kernel=rbf .....................................\n",
      "[CV] ......... C=1, gamma=0.01, kernel=rbf, score=0.712, total=   0.6s\n",
      "[CV] C=1, gamma=0.01, kernel=rbf .....................................\n",
      "[CV] ......... C=1, gamma=0.01, kernel=rbf, score=0.686, total=   0.6s\n",
      "[CV] C=1, gamma=0.01, kernel=rbf .....................................\n",
      "[CV] ......... C=1, gamma=0.01, kernel=rbf, score=0.681, total=   0.6s\n",
      "[CV] C=1, gamma=0.01, kernel=rbf .....................................\n",
      "[CV] ......... C=1, gamma=0.01, kernel=rbf, score=0.697, total=   0.6s\n",
      "[CV] C=1, gamma=0.001, kernel=rbf ....................................\n",
      "[CV] ........ C=1, gamma=0.001, kernel=rbf, score=0.705, total=   0.7s\n",
      "[CV] C=1, gamma=0.001, kernel=rbf ....................................\n",
      "[CV] ........ C=1, gamma=0.001, kernel=rbf, score=0.693, total=   0.7s\n",
      "[CV] C=1, gamma=0.001, kernel=rbf ....................................\n",
      "[CV] ........ C=1, gamma=0.001, kernel=rbf, score=0.657, total=   0.7s\n",
      "[CV] C=1, gamma=0.001, kernel=rbf ....................................\n",
      "[CV] ........ C=1, gamma=0.001, kernel=rbf, score=0.648, total=   0.7s\n",
      "[CV] C=1, gamma=0.001, kernel=rbf ....................................\n",
      "[CV] ........ C=1, gamma=0.001, kernel=rbf, score=0.686, total=   0.6s\n",
      "[CV] C=1, gamma=0.0001, kernel=rbf ...................................\n",
      "[CV] ....... C=1, gamma=0.0001, kernel=rbf, score=0.634, total=   0.8s\n",
      "[CV] C=1, gamma=0.0001, kernel=rbf ...................................\n",
      "[CV] ....... C=1, gamma=0.0001, kernel=rbf, score=0.629, total=   0.8s\n",
      "[CV] C=1, gamma=0.0001, kernel=rbf ...................................\n",
      "[CV] ....... C=1, gamma=0.0001, kernel=rbf, score=0.604, total=   0.8s\n",
      "[CV] C=1, gamma=0.0001, kernel=rbf ...................................\n",
      "[CV] ....... C=1, gamma=0.0001, kernel=rbf, score=0.613, total=   0.8s\n",
      "[CV] C=1, gamma=0.0001, kernel=rbf ...................................\n",
      "[CV] ....... C=1, gamma=0.0001, kernel=rbf, score=0.626, total=   0.8s\n",
      "[CV] C=10, gamma=1, kernel=rbf .......................................\n",
      "[CV] ........... C=10, gamma=1, kernel=rbf, score=0.859, total=   1.1s\n",
      "[CV] C=10, gamma=1, kernel=rbf .......................................\n",
      "[CV] ........... C=10, gamma=1, kernel=rbf, score=0.863, total=   1.1s\n",
      "[CV] C=10, gamma=1, kernel=rbf .......................................\n",
      "[CV] ........... C=10, gamma=1, kernel=rbf, score=0.829, total=   1.1s\n",
      "[CV] C=10, gamma=1, kernel=rbf .......................................\n",
      "[CV] ........... C=10, gamma=1, kernel=rbf, score=0.826, total=   1.1s\n",
      "[CV] C=10, gamma=1, kernel=rbf .......................................\n",
      "[CV] ........... C=10, gamma=1, kernel=rbf, score=0.838, total=   1.0s\n",
      "[CV] C=10, gamma=0.1, kernel=rbf .....................................\n",
      "[CV] ......... C=10, gamma=0.1, kernel=rbf, score=0.772, total=   0.8s\n",
      "[CV] C=10, gamma=0.1, kernel=rbf .....................................\n",
      "[CV] ......... C=10, gamma=0.1, kernel=rbf, score=0.769, total=   0.8s\n",
      "[CV] C=10, gamma=0.1, kernel=rbf .....................................\n",
      "[CV] ......... C=10, gamma=0.1, kernel=rbf, score=0.773, total=   0.7s\n",
      "[CV] C=10, gamma=0.1, kernel=rbf .....................................\n",
      "[CV] ......... C=10, gamma=0.1, kernel=rbf, score=0.770, total=   0.8s\n",
      "[CV] C=10, gamma=0.1, kernel=rbf .....................................\n",
      "[CV] ......... C=10, gamma=0.1, kernel=rbf, score=0.767, total=   0.8s\n",
      "[CV] C=10, gamma=0.01, kernel=rbf ....................................\n"
     ]
    },
    {
     "name": "stdout",
     "output_type": "stream",
     "text": [
      "[CV] ........ C=10, gamma=0.01, kernel=rbf, score=0.740, total=   0.6s\n",
      "[CV] C=10, gamma=0.01, kernel=rbf ....................................\n",
      "[CV] ........ C=10, gamma=0.01, kernel=rbf, score=0.731, total=   0.6s\n",
      "[CV] C=10, gamma=0.01, kernel=rbf ....................................\n",
      "[CV] ........ C=10, gamma=0.01, kernel=rbf, score=0.708, total=   0.6s\n",
      "[CV] C=10, gamma=0.01, kernel=rbf ....................................\n",
      "[CV] ........ C=10, gamma=0.01, kernel=rbf, score=0.714, total=   0.6s\n",
      "[CV] C=10, gamma=0.01, kernel=rbf ....................................\n",
      "[CV] ........ C=10, gamma=0.01, kernel=rbf, score=0.714, total=   0.6s\n",
      "[CV] C=10, gamma=0.001, kernel=rbf ...................................\n",
      "[CV] ....... C=10, gamma=0.001, kernel=rbf, score=0.709, total=   0.6s\n",
      "[CV] C=10, gamma=0.001, kernel=rbf ...................................\n",
      "[CV] ....... C=10, gamma=0.001, kernel=rbf, score=0.692, total=   0.6s\n",
      "[CV] C=10, gamma=0.001, kernel=rbf ...................................\n",
      "[CV] ....... C=10, gamma=0.001, kernel=rbf, score=0.676, total=   0.6s\n",
      "[CV] C=10, gamma=0.001, kernel=rbf ...................................\n",
      "[CV] ....... C=10, gamma=0.001, kernel=rbf, score=0.665, total=   0.6s\n",
      "[CV] C=10, gamma=0.001, kernel=rbf ...................................\n",
      "[CV] ....... C=10, gamma=0.001, kernel=rbf, score=0.687, total=   0.6s\n",
      "[CV] C=10, gamma=0.0001, kernel=rbf ..................................\n",
      "[CV] ...... C=10, gamma=0.0001, kernel=rbf, score=0.705, total=   0.7s\n",
      "[CV] C=10, gamma=0.0001, kernel=rbf ..................................\n",
      "[CV] ...... C=10, gamma=0.0001, kernel=rbf, score=0.691, total=   0.7s\n",
      "[CV] C=10, gamma=0.0001, kernel=rbf ..................................\n",
      "[CV] ...... C=10, gamma=0.0001, kernel=rbf, score=0.661, total=   0.7s\n",
      "[CV] C=10, gamma=0.0001, kernel=rbf ..................................\n",
      "[CV] ...... C=10, gamma=0.0001, kernel=rbf, score=0.647, total=   0.7s\n",
      "[CV] C=10, gamma=0.0001, kernel=rbf ..................................\n",
      "[CV] ...... C=10, gamma=0.0001, kernel=rbf, score=0.681, total=   0.7s\n",
      "[CV] C=100, gamma=1, kernel=rbf ......................................\n",
      "[CV] .......... C=100, gamma=1, kernel=rbf, score=0.857, total=   1.2s\n",
      "[CV] C=100, gamma=1, kernel=rbf ......................................\n",
      "[CV] .......... C=100, gamma=1, kernel=rbf, score=0.857, total=   1.3s\n",
      "[CV] C=100, gamma=1, kernel=rbf ......................................\n",
      "[CV] .......... C=100, gamma=1, kernel=rbf, score=0.826, total=   1.1s\n",
      "[CV] C=100, gamma=1, kernel=rbf ......................................\n",
      "[CV] .......... C=100, gamma=1, kernel=rbf, score=0.823, total=   1.1s\n",
      "[CV] C=100, gamma=1, kernel=rbf ......................................\n",
      "[CV] .......... C=100, gamma=1, kernel=rbf, score=0.839, total=   1.1s\n",
      "[CV] C=100, gamma=0.1, kernel=rbf ....................................\n",
      "[CV] ........ C=100, gamma=0.1, kernel=rbf, score=0.819, total=   1.7s\n",
      "[CV] C=100, gamma=0.1, kernel=rbf ....................................\n",
      "[CV] ........ C=100, gamma=0.1, kernel=rbf, score=0.783, total=   1.5s\n",
      "[CV] C=100, gamma=0.1, kernel=rbf ....................................\n",
      "[CV] ........ C=100, gamma=0.1, kernel=rbf, score=0.791, total=   1.6s\n",
      "[CV] C=100, gamma=0.1, kernel=rbf ....................................\n",
      "[CV] ........ C=100, gamma=0.1, kernel=rbf, score=0.797, total=   1.5s\n",
      "[CV] C=100, gamma=0.1, kernel=rbf ....................................\n",
      "[CV] ........ C=100, gamma=0.1, kernel=rbf, score=0.784, total=   1.8s\n",
      "[CV] C=100, gamma=0.01, kernel=rbf ...................................\n",
      "[CV] ....... C=100, gamma=0.01, kernel=rbf, score=0.755, total=   1.0s\n",
      "[CV] C=100, gamma=0.01, kernel=rbf ...................................\n",
      "[CV] ....... C=100, gamma=0.01, kernel=rbf, score=0.744, total=   0.9s\n",
      "[CV] C=100, gamma=0.01, kernel=rbf ...................................\n",
      "[CV] ....... C=100, gamma=0.01, kernel=rbf, score=0.740, total=   1.2s\n",
      "[CV] C=100, gamma=0.01, kernel=rbf ...................................\n",
      "[CV] ....... C=100, gamma=0.01, kernel=rbf, score=0.731, total=   1.0s\n",
      "[CV] C=100, gamma=0.01, kernel=rbf ...................................\n",
      "[CV] ....... C=100, gamma=0.01, kernel=rbf, score=0.731, total=   1.0s\n",
      "[CV] C=100, gamma=0.001, kernel=rbf ..................................\n",
      "[CV] ...... C=100, gamma=0.001, kernel=rbf, score=0.733, total=   0.7s\n",
      "[CV] C=100, gamma=0.001, kernel=rbf ..................................\n",
      "[CV] ...... C=100, gamma=0.001, kernel=rbf, score=0.709, total=   0.7s\n",
      "[CV] C=100, gamma=0.001, kernel=rbf ..................................\n",
      "[CV] ...... C=100, gamma=0.001, kernel=rbf, score=0.689, total=   0.7s\n",
      "[CV] C=100, gamma=0.001, kernel=rbf ..................................\n",
      "[CV] ...... C=100, gamma=0.001, kernel=rbf, score=0.687, total=   0.7s\n",
      "[CV] C=100, gamma=0.001, kernel=rbf ..................................\n",
      "[CV] ...... C=100, gamma=0.001, kernel=rbf, score=0.699, total=   0.7s\n",
      "[CV] C=100, gamma=0.0001, kernel=rbf .................................\n",
      "[CV] ..... C=100, gamma=0.0001, kernel=rbf, score=0.706, total=   0.6s\n",
      "[CV] C=100, gamma=0.0001, kernel=rbf .................................\n",
      "[CV] ..... C=100, gamma=0.0001, kernel=rbf, score=0.692, total=   0.6s\n",
      "[CV] C=100, gamma=0.0001, kernel=rbf .................................\n",
      "[CV] ..... C=100, gamma=0.0001, kernel=rbf, score=0.673, total=   0.6s\n",
      "[CV] C=100, gamma=0.0001, kernel=rbf .................................\n",
      "[CV] ..... C=100, gamma=0.0001, kernel=rbf, score=0.658, total=   0.6s\n",
      "[CV] C=100, gamma=0.0001, kernel=rbf .................................\n",
      "[CV] ..... C=100, gamma=0.0001, kernel=rbf, score=0.681, total=   0.6s\n",
      "[CV] C=1000, gamma=1, kernel=rbf .....................................\n",
      "[CV] ......... C=1000, gamma=1, kernel=rbf, score=0.857, total=   1.1s\n",
      "[CV] C=1000, gamma=1, kernel=rbf .....................................\n",
      "[CV] ......... C=1000, gamma=1, kernel=rbf, score=0.857, total=   1.1s\n",
      "[CV] C=1000, gamma=1, kernel=rbf .....................................\n",
      "[CV] ......... C=1000, gamma=1, kernel=rbf, score=0.826, total=   1.1s\n",
      "[CV] C=1000, gamma=1, kernel=rbf .....................................\n",
      "[CV] ......... C=1000, gamma=1, kernel=rbf, score=0.823, total=   1.1s\n",
      "[CV] C=1000, gamma=1, kernel=rbf .....................................\n",
      "[CV] ......... C=1000, gamma=1, kernel=rbf, score=0.839, total=   1.2s\n",
      "[CV] C=1000, gamma=0.1, kernel=rbf ...................................\n",
      "[CV] ....... C=1000, gamma=0.1, kernel=rbf, score=0.800, total=   5.8s\n",
      "[CV] C=1000, gamma=0.1, kernel=rbf ...................................\n",
      "[CV] ....... C=1000, gamma=0.1, kernel=rbf, score=0.798, total=   5.1s\n",
      "[CV] C=1000, gamma=0.1, kernel=rbf ...................................\n",
      "[CV] ....... C=1000, gamma=0.1, kernel=rbf, score=0.795, total=   5.6s\n",
      "[CV] C=1000, gamma=0.1, kernel=rbf ...................................\n",
      "[CV] ....... C=1000, gamma=0.1, kernel=rbf, score=0.790, total=   5.3s\n",
      "[CV] C=1000, gamma=0.1, kernel=rbf ...................................\n",
      "[CV] ....... C=1000, gamma=0.1, kernel=rbf, score=0.821, total=   4.9s\n",
      "[CV] C=1000, gamma=0.01, kernel=rbf ..................................\n",
      "[CV] ...... C=1000, gamma=0.01, kernel=rbf, score=0.757, total=   2.7s\n",
      "[CV] C=1000, gamma=0.01, kernel=rbf ..................................\n",
      "[CV] ...... C=1000, gamma=0.01, kernel=rbf, score=0.760, total=   2.7s\n",
      "[CV] C=1000, gamma=0.01, kernel=rbf ..................................\n",
      "[CV] ...... C=1000, gamma=0.01, kernel=rbf, score=0.753, total=   2.9s\n",
      "[CV] C=1000, gamma=0.01, kernel=rbf ..................................\n",
      "[CV] ...... C=1000, gamma=0.01, kernel=rbf, score=0.757, total=   3.0s\n",
      "[CV] C=1000, gamma=0.01, kernel=rbf ..................................\n",
      "[CV] ...... C=1000, gamma=0.01, kernel=rbf, score=0.758, total=   2.7s\n",
      "[CV] C=1000, gamma=0.001, kernel=rbf .................................\n",
      "[CV] ..... C=1000, gamma=0.001, kernel=rbf, score=0.738, total=   1.1s\n",
      "[CV] C=1000, gamma=0.001, kernel=rbf .................................\n",
      "[CV] ..... C=1000, gamma=0.001, kernel=rbf, score=0.730, total=   1.1s\n",
      "[CV] C=1000, gamma=0.001, kernel=rbf .................................\n",
      "[CV] ..... C=1000, gamma=0.001, kernel=rbf, score=0.715, total=   1.1s\n",
      "[CV] C=1000, gamma=0.001, kernel=rbf .................................\n"
     ]
    },
    {
     "name": "stdout",
     "output_type": "stream",
     "text": [
      "[CV] ..... C=1000, gamma=0.001, kernel=rbf, score=0.720, total=   1.1s\n",
      "[CV] C=1000, gamma=0.001, kernel=rbf .................................\n",
      "[CV] ..... C=1000, gamma=0.001, kernel=rbf, score=0.717, total=   1.1s\n",
      "[CV] C=1000, gamma=0.0001, kernel=rbf ................................\n",
      "[CV] .... C=1000, gamma=0.0001, kernel=rbf, score=0.706, total=   0.8s\n",
      "[CV] C=1000, gamma=0.0001, kernel=rbf ................................\n",
      "[CV] .... C=1000, gamma=0.0001, kernel=rbf, score=0.688, total=   0.7s\n",
      "[CV] C=1000, gamma=0.0001, kernel=rbf ................................\n",
      "[CV] .... C=1000, gamma=0.0001, kernel=rbf, score=0.682, total=   0.7s\n",
      "[CV] C=1000, gamma=0.0001, kernel=rbf ................................\n",
      "[CV] .... C=1000, gamma=0.0001, kernel=rbf, score=0.674, total=   0.7s\n",
      "[CV] C=1000, gamma=0.0001, kernel=rbf ................................\n",
      "[CV] .... C=1000, gamma=0.0001, kernel=rbf, score=0.686, total=   0.7s\n"
     ]
    },
    {
     "name": "stderr",
     "output_type": "stream",
     "text": [
      "[Parallel(n_jobs=1)]: Done 125 out of 125 | elapsed:  2.3min finished\n"
     ]
    },
    {
     "data": {
      "text/plain": [
       "GridSearchCV(estimator=SVC(),\n",
       "             param_grid={'C': [0.1, 1, 10, 100, 1000],\n",
       "                         'gamma': [1, 0.1, 0.01, 0.001, 0.0001],\n",
       "                         'kernel': ['rbf']},\n",
       "             verbose=3)"
      ]
     },
     "execution_count": 74,
     "metadata": {},
     "output_type": "execute_result"
    }
   ],
   "source": [
    "grid.fit(X_train,y_train)"
   ]
  },
  {
   "cell_type": "code",
   "execution_count": 75,
   "metadata": {},
   "outputs": [
    {
     "data": {
      "text/plain": [
       "{'C': 10, 'gamma': 1, 'kernel': 'rbf'}"
      ]
     },
     "execution_count": 75,
     "metadata": {},
     "output_type": "execute_result"
    }
   ],
   "source": [
    "grid.best_params_"
   ]
  },
  {
   "cell_type": "code",
   "execution_count": 76,
   "metadata": {},
   "outputs": [
    {
     "data": {
      "text/plain": [
       "SVC(C=10, gamma=1)"
      ]
     },
     "execution_count": 76,
     "metadata": {},
     "output_type": "execute_result"
    }
   ],
   "source": [
    "grid.best_estimator_"
   ]
  },
  {
   "cell_type": "code",
   "execution_count": 77,
   "metadata": {},
   "outputs": [
    {
     "name": "stdout",
     "output_type": "stream",
     "text": [
      "Classification Report :\n",
      "              precision    recall  f1-score   support\n",
      "\n",
      "           0       0.84      0.85      0.84      1021\n",
      "           1       0.85      0.84      0.84      1024\n",
      "\n",
      "    accuracy                           0.84      2045\n",
      "   macro avg       0.84      0.84      0.84      2045\n",
      "weighted avg       0.84      0.84      0.84      2045\n",
      "\n",
      "\n",
      "\n",
      "Confusion Matrix :\n",
      "[[867 154]\n",
      " [166 858]]\n",
      "\n",
      "\n",
      "Accuracy Score :\n",
      "0.843520782396088\n"
     ]
    }
   ],
   "source": [
    "svm = SVC(C=10,gamma=1)\n",
    "svm.fit(X_train,y_train)\n",
    "svm_predict = svm.predict(X_test)\n",
    "\n",
    "print('Classification Report :')\n",
    "print(classification_report(y_test,svm_predict))\n",
    "print('\\n')\n",
    "print('Confusion Matrix :')\n",
    "print(confusion_matrix(y_test,svm_predict))\n",
    "print('\\n')\n",
    "print('Accuracy Score :')\n",
    "print(accuracy_score(y_test,svm_predict))"
   ]
  },
  {
   "cell_type": "markdown",
   "metadata": {},
   "source": [
    "# Comparing the Results"
   ]
  },
  {
   "cell_type": "code",
   "execution_count": 84,
   "metadata": {},
   "outputs": [],
   "source": [
    "SVM = accuracy_score(y_test,svm_predict)\n",
    "Random_Forest  = accuracy_score(y_test,rfc_predict)\n",
    "Logistic_regression = accuracy_score(y_test,predictions)"
   ]
  },
  {
   "cell_type": "code",
   "execution_count": 85,
   "metadata": {},
   "outputs": [
    {
     "data": {
      "text/html": [
       "<div>\n",
       "<style scoped>\n",
       "    .dataframe tbody tr th:only-of-type {\n",
       "        vertical-align: middle;\n",
       "    }\n",
       "\n",
       "    .dataframe tbody tr th {\n",
       "        vertical-align: top;\n",
       "    }\n",
       "\n",
       "    .dataframe thead th {\n",
       "        text-align: right;\n",
       "    }\n",
       "</style>\n",
       "<table border=\"1\" class=\"dataframe\">\n",
       "  <thead>\n",
       "    <tr style=\"text-align: right;\">\n",
       "      <th></th>\n",
       "      <th>Score</th>\n",
       "    </tr>\n",
       "  </thead>\n",
       "  <tbody>\n",
       "    <tr>\n",
       "      <th>Random_Forest_Classifier</th>\n",
       "      <td>0.876773</td>\n",
       "    </tr>\n",
       "    <tr>\n",
       "      <th>Support_Vector_Machine</th>\n",
       "      <td>0.843521</td>\n",
       "    </tr>\n",
       "    <tr>\n",
       "      <th>Logistic_Regression</th>\n",
       "      <td>0.687042</td>\n",
       "    </tr>\n",
       "  </tbody>\n",
       "</table>\n",
       "</div>"
      ],
      "text/plain": [
       "                             Score\n",
       "Random_Forest_Classifier  0.876773\n",
       "Support_Vector_Machine    0.843521\n",
       "Logistic_Regression       0.687042"
      ]
     },
     "execution_count": 85,
     "metadata": {},
     "output_type": "execute_result"
    }
   ],
   "source": [
    "models = [SVM,Random_Forest,Logistic_regression]\n",
    "columns = ['Support_Vector_Machine', 'Random_Forest_Classifier', 'Logistic_Regression' ]\n",
    "\n",
    "\n",
    "scores = pd.DataFrame(models,index=columns,columns=['Score'])\n",
    "scores.sort_values(by='Score',ascending=False)"
   ]
  },
  {
   "cell_type": "markdown",
   "metadata": {},
   "source": [
    "From the above results, we can see that the Random Forest  Classification Model performs better than the other two. This model could be improved with more data."
   ]
  }
 ],
 "metadata": {
  "kernelspec": {
   "display_name": "Python 3",
   "language": "python",
   "name": "python3"
  },
  "language_info": {
   "codemirror_mode": {
    "name": "ipython",
    "version": 3
   },
   "file_extension": ".py",
   "mimetype": "text/x-python",
   "name": "python",
   "nbconvert_exporter": "python",
   "pygments_lexer": "ipython3",
   "version": "3.8.3"
  }
 },
 "nbformat": 4,
 "nbformat_minor": 4
}
